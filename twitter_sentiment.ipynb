{
 "cells": [
  {
   "cell_type": "markdown",
   "id": "74039dac-7fbe-4f43-819d-8dabaab1cb03",
   "metadata": {},
   "source": [
    "# ML Project A.Y. 24/25"
   ]
  },
  {
   "cell_type": "markdown",
   "id": "2058e1fc-8a20-4596-baad-87806422f36f",
   "metadata": {},
   "source": [
    "## Introduction\n",
    "\n",
    "This project aims at conducting a sentiment analysis about tweets, classifying them as either positive or negative. For the sake of this task, two LSTM-based models will be deployed, with different configurations as to highlight the core differences between the unlike approaches. \n",
    "\n",
    "As we delve into this exploration, we'll meticulously navigate through the following key stages:\n",
    "\n",
    "* **Data loading**: We'll first load the data and use a percentage ratio to split it accordingly.\n",
    "* **Data preprocessing**: We'll meticulously preprocess the data, encompassing different kinds of text cleaning.\n",
    "* **Building the model**: We'll construct a simple LSTM-based model as a first approach.\n",
    "* **Training the model**: We'll train it by exploring its different configurations to get a general idea of how it behaves.\n",
    "* **More complex model**: We'll delve into a more complex approach and its different configurations, this time based on BiLSTM.\n",
    "* **Visualization and Evaluation**: We'll visualize the training history to gain insights into the model's learning process and evaluate its performance on the unseen test data to assess its generalization ability.\n",
    "* **Further testing**: We'll create some tweets on our own and check whether the final model is able to correctly predict their classification.\n",
    "\n",
    "\n",
    "Let's first introduce the essential libraries we'll need to tackle our sentiment analysis task:\n",
    "\n",
    "* **math**: This is mainly needed to split the remaining portion of our data into validation and test set.\n",
    "* **NumPy (np)**: Provides efficient numerical computation capabilities.\n",
    "* **OS (os)**: Facilitates interaction with the operating system for file and directory operations.\n",
    "* **matplotlib**: Provides the means to visualize training history.\n",
    "* **Regular Expressions (re)**: Offers powerful text processing and pattern matching functionalities.\n",
    "* **string**: Also mainly for text preprocessing.\n",
    "* **Tensorflow (tf)**: The core deep learning framework powering the sentiment analysis model.\n",
    "* **ScikitLearn**: To evaluate the model's accuracy, precision, recall and f1 score metrics.\n",
    "* **rich**: Python library to format text and make it more stylish."
   ]
  },
  {
   "cell_type": "code",
   "execution_count": 1,
   "id": "15653153-519a-437a-bc65-181073b7b6f4",
   "metadata": {},
   "outputs": [],
   "source": [
    "import math\n",
    "import matplotlib.pyplot as plt\n",
    "import numpy as np\n",
    "from numpy import asarray\n",
    "from numpy import zeros\n",
    "import string\n",
    "import tensorflow as tf\n",
    "from tensorflow.keras.utils import text_dataset_from_directory\n",
    "from sklearn.metrics import accuracy_score, precision_score, recall_score, f1_score\n",
    "from rich.table import Table\n",
    "from rich.console import Console\n",
    "import os"
   ]
  },
  {
   "cell_type": "code",
   "execution_count": 2,
   "id": "ec0ce715-780a-4abf-abbf-8c39b665d826",
   "metadata": {},
   "outputs": [
    {
     "name": "stdout",
     "output_type": "stream",
     "text": [
      "\n",
      "Devices:  [PhysicalDevice(name='/physical_device:CPU:0', device_type='CPU'), PhysicalDevice(name='/physical_device:GPU:0', device_type='GPU')]\n",
      "GPU details:  {'device_name': 'METAL'}\n"
     ]
    }
   ],
   "source": [
    "devices = tf.config.list_physical_devices()\n",
    "print(\"\\nDevices: \", devices)\n",
    "\n",
    "gpus = tf.config.list_physical_devices('GPU')\n",
    "if gpus:\n",
    "  details = tf.config.experimental.get_device_details(gpus[0])\n",
    "  print(\"GPU details: \", details)\n",
    "\n",
    "os.environ['TF_CPP_MIN_LOG_LEVEL'] = '3' "
   ]
  },
  {
   "cell_type": "markdown",
   "id": "1ced2494-86c7-4215-86f9-9da587c2c157",
   "metadata": {},
   "source": [
    "## Data Loading\n",
    "\n",
    "The data is extracted from the zip file and further split into training, validation and test set. 70% of the dataset will be used for the training phase, the remaining 30% is split in half and assigned to the other two sets. \n",
    "The following paths are used for data management goals:\n",
    "* **DATASET_ZIP**: `/Users/matteoavallone/Downloads/TwitterParsed.zip` is the location where the compressed dataset can be found.\n",
    "* **DATASET_EXTRACT_DIR**: `/Users/matteoavallone/Downloads/dataset` is the location where the extracted dataset will be stored.\n",
    "\n",
    "`text_dataset_from_directory` is used to extract the dataset and split it into 70% of training set and 30% of validation_and_test set.\n",
    "\n",
    "The validation_and_test set is further split thanks to the `math.floor()` function as stated before.\n",
    "\n",
    "Lastly, some example have been displayed. "
   ]
  },
  {
   "cell_type": "code",
   "execution_count": 4,
   "id": "30b69a5e-f743-4f82-8f77-0f97245a2395",
   "metadata": {},
   "outputs": [
    {
     "name": "stdout",
     "output_type": "stream",
     "text": [
      "Found 149985 files belonging to 2 classes.\n",
      "Using 104990 files for training.\n",
      "Found 149985 files belonging to 2 classes.\n",
      "Using 44995 files for validation.\n",
      "Class names: ['0', '1']\n",
      "Text: b\"blip is sucking....wont post what i'm listening to\"\n",
      "Label: 0\n",
      "Text: b'is online doing nothing but wishing she had a keyboard on her cell.'\n",
      "Label: 0\n",
      "Text: b'Doodoo... I think my hair color is fading already'\n",
      "Label: 0\n",
      "Text: b'My new Twitter background is NOT the one I chose!  Trying another one.'\n",
      "Label: 0\n",
      "Text: b'Shame have to work today. But the sun is shining, door is open, and a warm(ish) breeze is ambling in. One thing missing - biscuits'\n",
      "Label: 0\n",
      "Text: b'@tehtinar I had strawberries but I eated them.'\n",
      "Label: 0\n",
      "Text: b'Sh** home from party, and my fathers car has gone to hell...without car, work, ...  Sometimes I guess what people call easy...'\n",
      "Label: 0\n",
      "Text: b\"Hey guys I'm going to create an iPhone app that's a twitter client called Tweetilicious please @reply me your thoughts!\"\n",
      "Label: 1\n",
      "Text: b'is going to buy a dress at Alain Manoukian'\n",
      "Label: 1\n",
      "Text: b\"@xNICKYURINEx I'm here baby!  I'm like an hour late,... (\"\n",
      "Label: 0\n"
     ]
    }
   ],
   "source": [
    "import zipfile\n",
    "\n",
    "DATASET_ZIP = '/Users/matteoavallone/Downloads/TwitterParsed.zip'\n",
    "DATASET_EXTRACT_DIR = '/Users/matteoavallone/Downloads/dataset'\n",
    "validation_split = 0.15\n",
    "test_split = 0.15\n",
    "\n",
    "os.makedirs(DATASET_EXTRACT_DIR, exist_ok=True)\n",
    "\n",
    "with zipfile.ZipFile(DATASET_ZIP, 'r') as zip_ref:\n",
    "    zip_ref.extractall(DATASET_EXTRACT_DIR)\n",
    "\n",
    "DATASET_DIR = os.path.join(DATASET_EXTRACT_DIR, \"TwitterParsed\")\n",
    "\n",
    "raw_train_ds = text_dataset_from_directory(\n",
    "    DATASET_DIR,\n",
    "    batch_size=32,         \n",
    "    validation_split=0.3,  \n",
    "    subset='training',     \n",
    "    seed=42               \n",
    ")\n",
    "\n",
    "raw_val_and_test_ds = text_dataset_from_directory(\n",
    "    DATASET_DIR,\n",
    "    batch_size=32,\n",
    "    validation_split=0.3,\n",
    "    subset='validation',\n",
    "    seed=42\n",
    ")\n",
    "\n",
    "\n",
    "val_size = math.floor(\n",
    "        (validation_split / (validation_split + test_split)) * len(raw_val_and_test_ds)\n",
    ")\n",
    "\n",
    "raw_val_ds = raw_val_and_test_ds.take(val_size)\n",
    "raw_test_ds = raw_val_and_test_ds.skip(val_size)\n",
    "\n",
    "print(\"Class names:\", raw_train_ds.class_names)\n",
    "for text_batch, label_batch in raw_train_ds.take(1):\n",
    "    for i in range(10):\n",
    "        print(f\"Text: {text_batch.numpy()[i]}\")\n",
    "        print(f\"Label: {label_batch.numpy()[i]}\")"
   ]
  },
  {
   "cell_type": "markdown",
   "id": "0be9c43c-68b8-4539-a7af-ed698877e108",
   "metadata": {},
   "source": [
    "### Label distribution\n",
    "\n",
    "We're also showing the label distribution of our dataset; as it can be seen, it is pretty balanced, accounting for a nearly perfect 50% split of positive and negative tweets."
   ]
  },
  {
   "cell_type": "code",
   "execution_count": 5,
   "id": "796d67d8-3e8f-49f9-bc5c-8114a3e77544",
   "metadata": {},
   "outputs": [
    {
     "data": {
      "image/png": "[encoded data removed]",
      "text/plain": [
       "<Figure size 400x400 with 1 Axes>"
      ]
     },
     "metadata": {},
     "output_type": "display_data"
    }
   ],
   "source": [
    "from collections import Counter\n",
    "\n",
    "label_list = []\n",
    "for _, labels in raw_train_ds:\n",
    "    label_list.extend(labels.numpy())\n",
    "\n",
    "# Count label occurrences\n",
    "label_distribution = Counter(label_list)\n",
    "\n",
    "labels = list(label_distribution.keys()) \n",
    "sizes = list(label_distribution.values())  # Counts for each label\n",
    "\n",
    "label_names = [f\"Class {label}\" for label in labels]\n",
    "\n",
    "# Plot the pie chart\n",
    "plt.figure(figsize=(4, 4))\n",
    "plt.pie(sizes, labels=label_names, shadow=True, autopct=lambda p: '{:.0f} ({:.0f}%)'.format(p * sum(sizes) / 100, p), startangle=90, colors=['lightgreen', 'lightblue'])\n",
    "plt.title('Label Distribution')\n",
    "plt.axis('equal')  \n",
    "plt.show()"
   ]
  },
  {
   "cell_type": "markdown",
   "id": "92b2963d-ce85-4276-8ed8-974c84533fef",
   "metadata": {},
   "source": [
    "## Data Pre-processing\n",
    "\n",
    "To get the data into the proper form to feed into the network, some pre-processing is applied to it. This is done in order to clean and prepare the data for classification.\n",
    "The `twitter_cleaner` function handles all the essential steps involved in the process:\n",
    "\n",
    "1. **lowercase**: converts all the words to lowercase format.\n",
    "2. **remove_unwanted_chars**: makes use of regular expression in order to wipe out punctuations (except for '@'), URLs and mentions ('@' followed by a twitter username).\n",
    "3. **replace_slang**: expands common slang words to their original words.\n",
    "4. **substitute_emoticons**: converts emoticons to a word format as to preserve their meaning.\n",
    "5. **clean_whitespaces**: removes white spaces from anywhere in the text, even trailing or leading spaces.\n",
    "\n",
    "`slang_dict` is a dictionary of the most common english slang words: its keys are regular expressions that ease the lookup process and its values are the corresponding correct form or meaning of the words.\n",
    "\n",
    "The final step consists of applying the `preprocess_dataset` function to every element of the training, validation and test sets."
   ]
  },
  {
   "cell_type": "code",
   "execution_count": 5,
   "id": "fb548038-af0f-4466-82ab-bb31822b2424",
   "metadata": {},
   "outputs": [],
   "source": [
    "slang_dict = {\n",
    "    r\"\\bbrb\\b\": \"be right back\",\n",
    "    r\"\\bomg\\b\": \"oh my god\",\n",
    "    r\"\\blol\\b\": \"laugh out loud\",\n",
    "    r\"\\bidk\\b\": \"I don't know\",\n",
    "    r\"\\bsmh\\b\": \"shaking my head\",\n",
    "    r\"\\btho\\b\": \"though\",\n",
    "    r\"\\bwanna\\b\": \"want to\",\n",
    "    r\"\\bgonna\\b\": \"going to\",\n",
    "    r\"\\bwont\\b\": \"will not\",\n",
    "    r\"\\bchill\\b\": \"calm down\",\n",
    "    r\"\\basap\\b\": \"as soon as possible\",\n",
    "    r\"\\bkinda\\b\": \"kind of\",\n",
    "    r\"\\blame\\b\": \"boring\",\n",
    "    r\"\\bgotta\\b\": \"got to\",\n",
    "    r\"\\bfyi\\b\": \"for your information\",\n",
    "    r\"\\boutta\\b\": \"out of\",\n",
    "    r\"\\blit\\b\": \"exciting\",\n",
    "    r\"\\bbff\\b\": \"best friend\",\n",
    "    r\"\\boomf\\b\": \"one of my followers\",\n",
    "    r\"\\bhella\\b\": \"extremely\",\n",
    "    r\"\\bmeh\\b\": \"mediocre\",\n",
    "    r\"\\bnah\\b\": \"no\",\n",
    "    r\"\\bgimme\\b\": \"give me\",\n",
    "    r\"\\byup\\b\": \"yes\",\n",
    "    r\"\\b4word\\b\": \"forward\",\n",
    "    r\"\\b2moro\\b\": \"tomorrow\"\n",
    "}\n",
    "\n",
    "eyes = r\"[:;]\"\n",
    "nose = r\"[-]?\"\n",
    "\n",
    "def lowercase(text):\n",
    "    return tf.strings.lower(text)\n",
    "\n",
    "def replace_slang(text):\n",
    "    for slang, replacement in slang_dict.items():\n",
    "        text = tf.strings.regex_replace(text, slang, replacement)\n",
    "    return text\n",
    "\n",
    "def remove_unwanted_chars(text):   \n",
    "    punctuation_pattern = r\"[^\\w\\s@]|_\"\n",
    "    text = tf.strings.regex_replace(text, punctuation_pattern, \"\")\n",
    "\n",
    "    url_pattern = r\"https?\\S+|www\\S+https\\S+\"\n",
    "    text = tf.strings.regex_replace(text, url_pattern, \"\")\n",
    "\n",
    "    mention_pattern = r\"@[A-Za-z0-9]+\"\n",
    "    text = tf.strings.regex_replace(text, mention_pattern, \"\")\n",
    "\n",
    "    return text\n",
    "\n",
    "def clean_whitespaces(text):\n",
    "    multiple_spaces_pattern = r\"\\s+\"\n",
    "    text = tf.strings.regex_replace(text, multiple_spaces_pattern, ' ')\n",
    "    \n",
    "    leading_trailing_pattern = r\"^\\s+|\\s+$\"\n",
    "    text = tf.strings.regex_replace(text, leading_trailing_pattern, '')\n",
    "    return text\n",
    "\n",
    "def substitute_emoticons(text):\n",
    "    # Replace smiley faces with <SMILE>\n",
    "    text = tf.strings.regex_replace(text, rf\"{eyes}{nose}[)d]+|[)d]+{nose}{eyes}\", \"<SMILE> \")\n",
    "\n",
    "    # Replace laughing faces with <LOLFACE>\n",
    "    text = tf.strings.regex_replace(text, rf\"{eyes}{nose}p+\", \"<LOLFACE> \")\n",
    "\n",
    "    # Replace sad faces with <SADFACE>\n",
    "    text = tf.strings.regex_replace(text, rf\"{eyes}{nose}\\(+|\\)+{nose}{eyes}\", \"<SADFACE> \")\n",
    "\n",
    "    # Replace neutral faces with <NEUTRALFACE>\n",
    "    text = tf.strings.regex_replace(text, rf\"{eyes}{nose}[\\/|l]*\", \"<NEUTRALFACE> \")\n",
    "\n",
    "    # Replace hearts with <HEART>\n",
    "    text = tf.strings.regex_replace(text, r\"<3\", \"<HEART> \")\n",
    "    return text\n",
    "\n",
    "def twitter_cleaner(text):\n",
    "    text = lowercase(text)\n",
    "    text = remove_unwanted_chars(text)\n",
    "    text = replace_slang(text)\n",
    "    text = substitute_emoticons(text)\n",
    "    text = clean_whitespaces(text)\n",
    "    return text\n",
    "\n",
    "def preprocess_dataset(text, label):\n",
    "    processed_text = twitter_cleaner(text)\n",
    "    return processed_text, label\n",
    "\n",
    "train_ds = raw_train_ds.map(preprocess_dataset)\n",
    "val_ds = raw_val_ds.map(preprocess_dataset)\n",
    "test_ds = raw_test_ds.map(preprocess_dataset)"
   ]
  },
  {
   "cell_type": "code",
   "execution_count": 6,
   "id": "247895b5-199f-4b4c-9d1d-7b1a143a9c32",
   "metadata": {},
   "outputs": [
    {
     "name": "stdout",
     "output_type": "stream",
     "text": [
      "Text: b'is it just me or is anyone else been slow at getting subscribers lately ive only been getting about 5 or less a day its discouraging'\n",
      "Label: 0\n",
      "Text: b'he must think theres something special about you'\n",
      "Label: 1\n",
      "Text: b'your guess is as good as mine totally freaked me out when it rang'\n",
      "Label: 1\n",
      "Text: b'needed advice on the best place in the city to check out the moon that i can actually get to like not the cn tower'\n",
      "Label: 1\n",
      "Text: b'true true crud that means ill have to wait until tonight'\n",
      "Label: 0\n",
      "Text: b'i think that is awesome she peobably sensed mimi inutero'\n",
      "Label: 1\n",
      "Text: b'just uploading season 1 in the video directory on me web site love it see good laugh'\n",
      "Label: 1\n",
      "Text: b'twitter has stolen my face'\n",
      "Label: 0\n",
      "Text: b'tell me more abou nyc on here or fbook i cant text very much in sverige'\n",
      "Label: 0\n",
      "Text: b'yes the former chef chan at odeon towers has nice modern oriental feel not sure about the new location at national museum'\n",
      "Label: 1\n"
     ]
    }
   ],
   "source": [
    "for text_batch, label_batch in train_ds.take(1):\n",
    "    for i in range(10):\n",
    "        print(f\"Text: {text_batch.numpy()[i]}\")\n",
    "        print(f\"Label: {label_batch.numpy()[i]}\")\n"
   ]
  },
  {
   "cell_type": "markdown",
   "id": "2ce5da02-eada-40cf-80d1-812100f14ea5",
   "metadata": {},
   "source": [
    "## Building the model\n",
    "\n",
    "We start by defining a simple LSTM-based model; to explore its different configurations and thus analyse its performance, `lstm_model` allows us to vary the vocabulary size, the input sequence length, the number of units in the LSTM layer and finally choose whether to apply for a regular or a bidirectional LSTM.\n",
    "\n",
    "We create the `vectorizationLayer` that converts words into tokens (integers); `max_tokens` and `output_sequence_length` are two of the hyperparamaters chosen when defining a model configuration: we usually consider a maximum vocabulary size ranging from 5000 to 20000, and an output sequence length between 25 and 50. \n",
    "\n",
    "We then add an `embedding_layer` to the model to convert the vectorized output of textual data into dense, continuous vectors. This often helps the language model to capture semantic meaning and contextual relationships within the text. We fix the embedding dimension to 128 and vary the vocabulary size.\n",
    "\n",
    "Depending on the value of `bidirectional`, we add a BiLSTM or LSTM layer to the model, specifying the number of units as hyperparameter. \n",
    "Finally, a `Dense` layer is added to map the output of the (Bi)LSTM layer to a desidered output size, with the sigmoid activation function to turn all the output values in the range 0 to 1. \n",
    "\n",
    "The last steps involve compiling, fitting and get a summary of the model: to compile it, we choose the **Adam** optimization algorithm, which leverages past gradient information to accelerate convergence. To fit the model we specify two `keras.callbacks.Callback` instances: one being **early stopping**, monitoring the validation loss with a patience of 2, and the other being the user-defined **PrintBestValAccuracy**, that prints the best validation accuracy obtained from the training phase."
   ]
  },
  {
   "cell_type": "code",
   "execution_count": 7,
   "id": "e785fcb9-5dd9-42a1-9cfe-760f53b3474e",
   "metadata": {},
   "outputs": [],
   "source": [
    "def lstm_model(train_ds, val_ds, vocab_size, seq_length, units, bidirectional):\n",
    "\n",
    "    vectorizationLayer = tf.keras.layers.TextVectorization(\n",
    "        max_tokens=vocab_size,\n",
    "        output_mode='int',\n",
    "        output_sequence_length=seq_length)\n",
    "    train_text = train_ds.map(lambda x, y: x)\n",
    "    vectorizationLayer.adapt(train_text)\n",
    "\n",
    "    embedding_layer = tf.keras.layers.Embedding(vocab_size, 128)\n",
    "\n",
    "    model = tf.keras.models.Sequential()\n",
    "    model.add(vectorizationLayer)\n",
    "    model.add(embedding_layer)\n",
    "    if bidirectional:\n",
    "        model.add(tf.keras.layers.Bidirectional(tf.keras.layers.LSTM(units)))\n",
    "    else:\n",
    "        model.add(tf.keras.layers.LSTM(units))\n",
    "    model.add(tf.keras.layers.Dense(1, activation='sigmoid'))\n",
    "\n",
    "    model.compile(loss='binary_crossentropy', optimizer='adam', metrics=['accuracy'])\n",
    "\n",
    "    model.fit(train_ds,\n",
    "              epochs=7,\n",
    "              verbose=1,\n",
    "              callbacks=[tf.keras.callbacks.EarlyStopping(monitor=\"val_loss\", patience=2, restore_best_weights=True), PrintBestValAccuracy()],\n",
    "              validation_data=val_ds)\n",
    "\n",
    "    model.summary()\n",
    "    return model   \n",
    "\n",
    "class PrintBestValAccuracy(tf.keras.callbacks.Callback):\n",
    "    def __init__(self):\n",
    "        super(PrintBestValAccuracy, self).__init__()\n",
    "        self.best_val_accuracy = 0.0\n",
    "        self.prev_val_loss = float(\"inf\")\n",
    "\n",
    "    def on_epoch_end(self, epoch, logs=None):\n",
    "        val_accuracy = logs.get(\"val_accuracy\")\n",
    "        val_loss = logs.get(\"val_loss\")\n",
    "        if val_accuracy > self.best_val_accuracy and val_loss < self.prev_val_loss:  \n",
    "            self.best_val_accuracy = val_accuracy\n",
    "            self.prev_val_loss = val_loss \n",
    "\n",
    "    def on_train_end(self, logs=None):\n",
    "        print(f\"Training Complete! Restoring Best Validation Accuracy: {self.best_val_accuracy}\")\n"
   ]
  },
  {
   "cell_type": "markdown",
   "id": "79f631b0-8831-4dd1-8475-6c91aa8691a7",
   "metadata": {},
   "source": [
    "## Train the model"
   ]
  },
  {
   "cell_type": "markdown",
   "id": "2cdb722e-c437-4d4a-9d27-7f1af4ad82f2",
   "metadata": {},
   "source": [
    "### Configuration 1\n",
    "\n",
    "We start with a simple 64-units LSTM configuration with limited vocabulary size: a validation accuracy of **78%** is obtained, with **80%** of training accuracy."
   ]
  },
  {
   "cell_type": "code",
   "execution_count": 21,
   "id": "c4dc77e3-9dd7-405d-b782-9e6535a5a444",
   "metadata": {},
   "outputs": [
    {
     "name": "stdout",
     "output_type": "stream",
     "text": [
      "Epoch 1/7\n",
      "\u001b[1m3281/3281\u001b[0m \u001b[32m━━━━━━━━━━━━━━━━━━━━\u001b[0m\u001b[37m\u001b[0m \u001b[1m73s\u001b[0m 21ms/step - accuracy: 0.5134 - loss: 0.6903 - val_accuracy: 0.7527 - val_loss: 0.5189\n",
      "Epoch 2/7\n",
      "\u001b[1m3281/3281\u001b[0m \u001b[32m━━━━━━━━━━━━━━━━━━━━\u001b[0m\u001b[37m\u001b[0m \u001b[1m75s\u001b[0m 23ms/step - accuracy: 0.7710 - loss: 0.4811 - val_accuracy: 0.7907 - val_loss: 0.4506\n",
      "Epoch 3/7\n",
      "\u001b[1m3281/3281\u001b[0m \u001b[32m━━━━━━━━━━━━━━━━━━━━\u001b[0m\u001b[37m\u001b[0m \u001b[1m76s\u001b[0m 23ms/step - accuracy: 0.8099 - loss: 0.4135 - val_accuracy: 0.7897 - val_loss: 0.4687\n",
      "Epoch 4/7\n",
      "\u001b[1m3281/3281\u001b[0m \u001b[32m━━━━━━━━━━━━━━━━━━━━\u001b[0m\u001b[37m\u001b[0m \u001b[1m81s\u001b[0m 25ms/step - accuracy: 0.8270 - loss: 0.3798 - val_accuracy: 0.7862 - val_loss: 0.4963\n",
      "Training Complete! Restoring Best Validation Accuracy: 0.7906739115715027\n"
     ]
    },
    {
     "data": {
      "text/html": [
       "<pre style=\"white-space:pre;overflow-x:auto;line-height:normal;font-family:Menlo,'DejaVu Sans Mono',consolas,'Courier New',monospace\"><span style=\"font-weight: bold\">Model: \"sequential_10\"</span>\n",
       "</pre>\n"
      ],
      "text/plain": [
       "\u001b[1mModel: \"sequential_10\"\u001b[0m\n"
      ]
     },
     "metadata": {},
     "output_type": "display_data"
    },
    {
     "data": {
      "text/html": [
       "<pre style=\"white-space:pre;overflow-x:auto;line-height:normal;font-family:Menlo,'DejaVu Sans Mono',consolas,'Courier New',monospace\">┏━━━━━━━━━━━━━━━━━━━━━━━━━━━━━━━━━┳━━━━━━━━━━━━━━━━━━━━━━━━┳━━━━━━━━━━━━━━━┓\n",
       "┃<span style=\"font-weight: bold\"> Layer (type)                    </span>┃<span style=\"font-weight: bold\"> Output Shape           </span>┃<span style=\"font-weight: bold\">       Param # </span>┃\n",
       "┡━━━━━━━━━━━━━━━━━━━━━━━━━━━━━━━━━╇━━━━━━━━━━━━━━━━━━━━━━━━╇━━━━━━━━━━━━━━━┩\n",
       "│ text_vectorization_10           │ (<span style=\"color: #00d7ff; text-decoration-color: #00d7ff\">None</span>, <span style=\"color: #00af00; text-decoration-color: #00af00\">50</span>)             │             <span style=\"color: #00af00; text-decoration-color: #00af00\">0</span> │\n",
       "│ (<span style=\"color: #0087ff; text-decoration-color: #0087ff\">TextVectorization</span>)             │                        │               │\n",
       "├─────────────────────────────────┼────────────────────────┼───────────────┤\n",
       "│ embedding_10 (<span style=\"color: #0087ff; text-decoration-color: #0087ff\">Embedding</span>)        │ (<span style=\"color: #00d7ff; text-decoration-color: #00d7ff\">None</span>, <span style=\"color: #00af00; text-decoration-color: #00af00\">50</span>, <span style=\"color: #00af00; text-decoration-color: #00af00\">128</span>)        │       <span style=\"color: #00af00; text-decoration-color: #00af00\">640,000</span> │\n",
       "├─────────────────────────────────┼────────────────────────┼───────────────┤\n",
       "│ lstm_10 (<span style=\"color: #0087ff; text-decoration-color: #0087ff\">LSTM</span>)                  │ (<span style=\"color: #00d7ff; text-decoration-color: #00d7ff\">None</span>, <span style=\"color: #00af00; text-decoration-color: #00af00\">64</span>)             │        <span style=\"color: #00af00; text-decoration-color: #00af00\">49,408</span> │\n",
       "├─────────────────────────────────┼────────────────────────┼───────────────┤\n",
       "│ dense_16 (<span style=\"color: #0087ff; text-decoration-color: #0087ff\">Dense</span>)                │ (<span style=\"color: #00d7ff; text-decoration-color: #00d7ff\">None</span>, <span style=\"color: #00af00; text-decoration-color: #00af00\">1</span>)              │            <span style=\"color: #00af00; text-decoration-color: #00af00\">65</span> │\n",
       "└─────────────────────────────────┴────────────────────────┴───────────────┘\n",
       "</pre>\n"
      ],
      "text/plain": [
       "┏━━━━━━━━━━━━━━━━━━━━━━━━━━━━━━━━━┳━━━━━━━━━━━━━━━━━━━━━━━━┳━━━━━━━━━━━━━━━┓\n",
       "┃\u001b[1m \u001b[0m\u001b[1mLayer (type)                   \u001b[0m\u001b[1m \u001b[0m┃\u001b[1m \u001b[0m\u001b[1mOutput Shape          \u001b[0m\u001b[1m \u001b[0m┃\u001b[1m \u001b[0m\u001b[1m      Param #\u001b[0m\u001b[1m \u001b[0m┃\n",
       "┡━━━━━━━━━━━━━━━━━━━━━━━━━━━━━━━━━╇━━━━━━━━━━━━━━━━━━━━━━━━╇━━━━━━━━━━━━━━━┩\n",
       "│ text_vectorization_10           │ (\u001b[38;5;45mNone\u001b[0m, \u001b[38;5;34m50\u001b[0m)             │             \u001b[38;5;34m0\u001b[0m │\n",
       "│ (\u001b[38;5;33mTextVectorization\u001b[0m)             │                        │               │\n",
       "├─────────────────────────────────┼────────────────────────┼───────────────┤\n",
       "│ embedding_10 (\u001b[38;5;33mEmbedding\u001b[0m)        │ (\u001b[38;5;45mNone\u001b[0m, \u001b[38;5;34m50\u001b[0m, \u001b[38;5;34m128\u001b[0m)        │       \u001b[38;5;34m640,000\u001b[0m │\n",
       "├─────────────────────────────────┼────────────────────────┼───────────────┤\n",
       "│ lstm_10 (\u001b[38;5;33mLSTM\u001b[0m)                  │ (\u001b[38;5;45mNone\u001b[0m, \u001b[38;5;34m64\u001b[0m)             │        \u001b[38;5;34m49,408\u001b[0m │\n",
       "├─────────────────────────────────┼────────────────────────┼───────────────┤\n",
       "│ dense_16 (\u001b[38;5;33mDense\u001b[0m)                │ (\u001b[38;5;45mNone\u001b[0m, \u001b[38;5;34m1\u001b[0m)              │            \u001b[38;5;34m65\u001b[0m │\n",
       "└─────────────────────────────────┴────────────────────────┴───────────────┘\n"
      ]
     },
     "metadata": {},
     "output_type": "display_data"
    },
    {
     "data": {
      "text/html": [
       "<pre style=\"white-space:pre;overflow-x:auto;line-height:normal;font-family:Menlo,'DejaVu Sans Mono',consolas,'Courier New',monospace\"><span style=\"font-weight: bold\"> Total params: </span><span style=\"color: #00af00; text-decoration-color: #00af00\">2,068,421</span> (7.89 MB)\n",
       "</pre>\n"
      ],
      "text/plain": [
       "\u001b[1m Total params: \u001b[0m\u001b[38;5;34m2,068,421\u001b[0m (7.89 MB)\n"
      ]
     },
     "metadata": {},
     "output_type": "display_data"
    },
    {
     "data": {
      "text/html": [
       "<pre style=\"white-space:pre;overflow-x:auto;line-height:normal;font-family:Menlo,'DejaVu Sans Mono',consolas,'Courier New',monospace\"><span style=\"font-weight: bold\"> Trainable params: </span><span style=\"color: #00af00; text-decoration-color: #00af00\">689,473</span> (2.63 MB)\n",
       "</pre>\n"
      ],
      "text/plain": [
       "\u001b[1m Trainable params: \u001b[0m\u001b[38;5;34m689,473\u001b[0m (2.63 MB)\n"
      ]
     },
     "metadata": {},
     "output_type": "display_data"
    },
    {
     "data": {
      "text/html": [
       "<pre style=\"white-space:pre;overflow-x:auto;line-height:normal;font-family:Menlo,'DejaVu Sans Mono',consolas,'Courier New',monospace\"><span style=\"font-weight: bold\"> Non-trainable params: </span><span style=\"color: #00af00; text-decoration-color: #00af00\">0</span> (0.00 B)\n",
       "</pre>\n"
      ],
      "text/plain": [
       "\u001b[1m Non-trainable params: \u001b[0m\u001b[38;5;34m0\u001b[0m (0.00 B)\n"
      ]
     },
     "metadata": {},
     "output_type": "display_data"
    },
    {
     "data": {
      "text/html": [
       "<pre style=\"white-space:pre;overflow-x:auto;line-height:normal;font-family:Menlo,'DejaVu Sans Mono',consolas,'Courier New',monospace\"><span style=\"font-weight: bold\"> Optimizer params: </span><span style=\"color: #00af00; text-decoration-color: #00af00\">1,378,948</span> (5.26 MB)\n",
       "</pre>\n"
      ],
      "text/plain": [
       "\u001b[1m Optimizer params: \u001b[0m\u001b[38;5;34m1,378,948\u001b[0m (5.26 MB)\n"
      ]
     },
     "metadata": {},
     "output_type": "display_data"
    }
   ],
   "source": [
    "first_model = lstm_model(train_ds, val_ds, 5000, 50, 64, False)"
   ]
  },
  {
   "cell_type": "markdown",
   "id": "381fc3a9-9309-48ba-a3d3-25a9892b4571",
   "metadata": {},
   "source": [
    "### Configuration 2\n",
    "\n",
    "Basically the same configuration as before but with a BiLSTM layer instead: a best validation accuracy of **79%** is obtained, although a training accuracy of **73%** might suggest that the model is slightly underfitting."
   ]
  },
  {
   "cell_type": "code",
   "execution_count": 10,
   "id": "921f5ada-1e31-41d7-b7dd-c6df99a6e6a6",
   "metadata": {},
   "outputs": [
    {
     "name": "stdout",
     "output_type": "stream",
     "text": [
      "Epoch 1/7\n",
      "\u001b[1m3281/3281\u001b[0m \u001b[32m━━━━━━━━━━━━━━━━━━━━\u001b[0m\u001b[37m\u001b[0m \u001b[1m189s\u001b[0m 57ms/step - accuracy: 0.7330 - loss: 0.5241 - val_accuracy: 0.7953 - val_loss: 0.4428\n",
      "Epoch 2/7\n",
      "\u001b[1m3281/3281\u001b[0m \u001b[32m━━━━━━━━━━━━━━━━━━━━\u001b[0m\u001b[37m\u001b[0m \u001b[1m173s\u001b[0m 53ms/step - accuracy: 0.7997 - loss: 0.4264 - val_accuracy: 0.7945 - val_loss: 0.4446\n",
      "Epoch 3/7\n",
      "\u001b[1m3281/3281\u001b[0m \u001b[32m━━━━━━━━━━━━━━━━━━━━\u001b[0m\u001b[37m\u001b[0m \u001b[1m174s\u001b[0m 53ms/step - accuracy: 0.8183 - loss: 0.3927 - val_accuracy: 0.7895 - val_loss: 0.4660\n",
      "Training Complete! Restoring Best Validation Accuracy: 0.7953413724899292\n"
     ]
    },
    {
     "data": {
      "text/html": [
       "<pre style=\"white-space:pre;overflow-x:auto;line-height:normal;font-family:Menlo,'DejaVu Sans Mono',consolas,'Courier New',monospace\"><span style=\"font-weight: bold\">Model: \"sequential_1\"</span>\n",
       "</pre>\n"
      ],
      "text/plain": [
       "\u001b[1mModel: \"sequential_1\"\u001b[0m\n"
      ]
     },
     "metadata": {},
     "output_type": "display_data"
    },
    {
     "data": {
      "text/html": [
       "<pre style=\"white-space:pre;overflow-x:auto;line-height:normal;font-family:Menlo,'DejaVu Sans Mono',consolas,'Courier New',monospace\">┏━━━━━━━━━━━━━━━━━━━━━━━━━━━━━━━━━┳━━━━━━━━━━━━━━━━━━━━━━━━┳━━━━━━━━━━━━━━━┓\n",
       "┃<span style=\"font-weight: bold\"> Layer (type)                    </span>┃<span style=\"font-weight: bold\"> Output Shape           </span>┃<span style=\"font-weight: bold\">       Param # </span>┃\n",
       "┡━━━━━━━━━━━━━━━━━━━━━━━━━━━━━━━━━╇━━━━━━━━━━━━━━━━━━━━━━━━╇━━━━━━━━━━━━━━━┩\n",
       "│ text_vectorization_1            │ (<span style=\"color: #00d7ff; text-decoration-color: #00d7ff\">None</span>, <span style=\"color: #00af00; text-decoration-color: #00af00\">50</span>)             │             <span style=\"color: #00af00; text-decoration-color: #00af00\">0</span> │\n",
       "│ (<span style=\"color: #0087ff; text-decoration-color: #0087ff\">TextVectorization</span>)             │                        │               │\n",
       "├─────────────────────────────────┼────────────────────────┼───────────────┤\n",
       "│ embedding_1 (<span style=\"color: #0087ff; text-decoration-color: #0087ff\">Embedding</span>)         │ (<span style=\"color: #00d7ff; text-decoration-color: #00d7ff\">None</span>, <span style=\"color: #00af00; text-decoration-color: #00af00\">50</span>, <span style=\"color: #00af00; text-decoration-color: #00af00\">128</span>)        │       <span style=\"color: #00af00; text-decoration-color: #00af00\">640,000</span> │\n",
       "├─────────────────────────────────┼────────────────────────┼───────────────┤\n",
       "│ bidirectional (<span style=\"color: #0087ff; text-decoration-color: #0087ff\">Bidirectional</span>)   │ (<span style=\"color: #00d7ff; text-decoration-color: #00d7ff\">None</span>, <span style=\"color: #00af00; text-decoration-color: #00af00\">128</span>)            │        <span style=\"color: #00af00; text-decoration-color: #00af00\">98,816</span> │\n",
       "├─────────────────────────────────┼────────────────────────┼───────────────┤\n",
       "│ dense_1 (<span style=\"color: #0087ff; text-decoration-color: #0087ff\">Dense</span>)                 │ (<span style=\"color: #00d7ff; text-decoration-color: #00d7ff\">None</span>, <span style=\"color: #00af00; text-decoration-color: #00af00\">1</span>)              │           <span style=\"color: #00af00; text-decoration-color: #00af00\">129</span> │\n",
       "└─────────────────────────────────┴────────────────────────┴───────────────┘\n",
       "</pre>\n"
      ],
      "text/plain": [
       "┏━━━━━━━━━━━━━━━━━━━━━━━━━━━━━━━━━┳━━━━━━━━━━━━━━━━━━━━━━━━┳━━━━━━━━━━━━━━━┓\n",
       "┃\u001b[1m \u001b[0m\u001b[1mLayer (type)                   \u001b[0m\u001b[1m \u001b[0m┃\u001b[1m \u001b[0m\u001b[1mOutput Shape          \u001b[0m\u001b[1m \u001b[0m┃\u001b[1m \u001b[0m\u001b[1m      Param #\u001b[0m\u001b[1m \u001b[0m┃\n",
       "┡━━━━━━━━━━━━━━━━━━━━━━━━━━━━━━━━━╇━━━━━━━━━━━━━━━━━━━━━━━━╇━━━━━━━━━━━━━━━┩\n",
       "│ text_vectorization_1            │ (\u001b[38;5;45mNone\u001b[0m, \u001b[38;5;34m50\u001b[0m)             │             \u001b[38;5;34m0\u001b[0m │\n",
       "│ (\u001b[38;5;33mTextVectorization\u001b[0m)             │                        │               │\n",
       "├─────────────────────────────────┼────────────────────────┼───────────────┤\n",
       "│ embedding_1 (\u001b[38;5;33mEmbedding\u001b[0m)         │ (\u001b[38;5;45mNone\u001b[0m, \u001b[38;5;34m50\u001b[0m, \u001b[38;5;34m128\u001b[0m)        │       \u001b[38;5;34m640,000\u001b[0m │\n",
       "├─────────────────────────────────┼────────────────────────┼───────────────┤\n",
       "│ bidirectional (\u001b[38;5;33mBidirectional\u001b[0m)   │ (\u001b[38;5;45mNone\u001b[0m, \u001b[38;5;34m128\u001b[0m)            │        \u001b[38;5;34m98,816\u001b[0m │\n",
       "├─────────────────────────────────┼────────────────────────┼───────────────┤\n",
       "│ dense_1 (\u001b[38;5;33mDense\u001b[0m)                 │ (\u001b[38;5;45mNone\u001b[0m, \u001b[38;5;34m1\u001b[0m)              │           \u001b[38;5;34m129\u001b[0m │\n",
       "└─────────────────────────────────┴────────────────────────┴───────────────┘\n"
      ]
     },
     "metadata": {},
     "output_type": "display_data"
    },
    {
     "data": {
      "text/html": [
       "<pre style=\"white-space:pre;overflow-x:auto;line-height:normal;font-family:Menlo,'DejaVu Sans Mono',consolas,'Courier New',monospace\"><span style=\"font-weight: bold\"> Total params: </span><span style=\"color: #00af00; text-decoration-color: #00af00\">2,216,837</span> (8.46 MB)\n",
       "</pre>\n"
      ],
      "text/plain": [
       "\u001b[1m Total params: \u001b[0m\u001b[38;5;34m2,216,837\u001b[0m (8.46 MB)\n"
      ]
     },
     "metadata": {},
     "output_type": "display_data"
    },
    {
     "data": {
      "text/html": [
       "<pre style=\"white-space:pre;overflow-x:auto;line-height:normal;font-family:Menlo,'DejaVu Sans Mono',consolas,'Courier New',monospace\"><span style=\"font-weight: bold\"> Trainable params: </span><span style=\"color: #00af00; text-decoration-color: #00af00\">738,945</span> (2.82 MB)\n",
       "</pre>\n"
      ],
      "text/plain": [
       "\u001b[1m Trainable params: \u001b[0m\u001b[38;5;34m738,945\u001b[0m (2.82 MB)\n"
      ]
     },
     "metadata": {},
     "output_type": "display_data"
    },
    {
     "data": {
      "text/html": [
       "<pre style=\"white-space:pre;overflow-x:auto;line-height:normal;font-family:Menlo,'DejaVu Sans Mono',consolas,'Courier New',monospace\"><span style=\"font-weight: bold\"> Non-trainable params: </span><span style=\"color: #00af00; text-decoration-color: #00af00\">0</span> (0.00 B)\n",
       "</pre>\n"
      ],
      "text/plain": [
       "\u001b[1m Non-trainable params: \u001b[0m\u001b[38;5;34m0\u001b[0m (0.00 B)\n"
      ]
     },
     "metadata": {},
     "output_type": "display_data"
    },
    {
     "data": {
      "text/html": [
       "<pre style=\"white-space:pre;overflow-x:auto;line-height:normal;font-family:Menlo,'DejaVu Sans Mono',consolas,'Courier New',monospace\"><span style=\"font-weight: bold\"> Optimizer params: </span><span style=\"color: #00af00; text-decoration-color: #00af00\">1,477,892</span> (5.64 MB)\n",
       "</pre>\n"
      ],
      "text/plain": [
       "\u001b[1m Optimizer params: \u001b[0m\u001b[38;5;34m1,477,892\u001b[0m (5.64 MB)\n"
      ]
     },
     "metadata": {},
     "output_type": "display_data"
    }
   ],
   "source": [
    "second_model = lstm_model(train_ds, val_ds, 5000, 50, 64, True)"
   ]
  },
  {
   "cell_type": "markdown",
   "id": "7d0597f0-1cf7-4c46-a838-1e9e805c3461",
   "metadata": {},
   "source": [
    "### Configuration 3\n",
    "\n",
    "Same as configuration 1 but with a halved input sequence length: here, training and validation accuracies seem to be more balanced, with a total gap of more or less 0,50."
   ]
  },
  {
   "cell_type": "code",
   "execution_count": 12,
   "id": "7435fd29-4e75-4e73-b13c-d3f4954f1671",
   "metadata": {},
   "outputs": [
    {
     "name": "stderr",
     "output_type": "stream",
     "text": [
      "2025-02-02 17:02:06.271044: I tensorflow/core/framework/local_rendezvous.cc:405] Local rendezvous is aborting with status: OUT_OF_RANGE: End of sequence\n"
     ]
    },
    {
     "name": "stdout",
     "output_type": "stream",
     "text": [
      "Epoch 1/7\n",
      "\u001b[1m3281/3281\u001b[0m \u001b[32m━━━━━━━━━━━━━━━━━━━━\u001b[0m\u001b[37m\u001b[0m \u001b[1m57s\u001b[0m 17ms/step - accuracy: 0.7206 - loss: 0.5416 - val_accuracy: 0.7889 - val_loss: 0.4527\n",
      "Epoch 2/7\n",
      "\u001b[1m3281/3281\u001b[0m \u001b[32m━━━━━━━━━━━━━━━━━━━━\u001b[0m\u001b[37m\u001b[0m \u001b[1m60s\u001b[0m 18ms/step - accuracy: 0.7977 - loss: 0.4337 - val_accuracy: 0.7924 - val_loss: 0.4483\n",
      "Epoch 3/7\n",
      "\u001b[1m3281/3281\u001b[0m \u001b[32m━━━━━━━━━━━━━━━━━━━━\u001b[0m\u001b[37m\u001b[0m \u001b[1m53s\u001b[0m 16ms/step - accuracy: 0.8162 - loss: 0.4012 - val_accuracy: 0.7869 - val_loss: 0.4708\n",
      "Epoch 4/7\n",
      "\u001b[1m3281/3281\u001b[0m \u001b[32m━━━━━━━━━━━━━━━━━━━━\u001b[0m\u001b[37m\u001b[0m \u001b[1m58s\u001b[0m 18ms/step - accuracy: 0.8354 - loss: 0.3650 - val_accuracy: 0.7768 - val_loss: 0.5152\n",
      "Training Complete! Restoring Best Validation Accuracy: 0.7923631072044373\n"
     ]
    },
    {
     "data": {
      "text/html": [
       "<pre style=\"white-space:pre;overflow-x:auto;line-height:normal;font-family:Menlo,'DejaVu Sans Mono',consolas,'Courier New',monospace\"><span style=\"font-weight: bold\">Model: \"sequential_3\"</span>\n",
       "</pre>\n"
      ],
      "text/plain": [
       "\u001b[1mModel: \"sequential_3\"\u001b[0m\n"
      ]
     },
     "metadata": {},
     "output_type": "display_data"
    },
    {
     "data": {
      "text/html": [
       "<pre style=\"white-space:pre;overflow-x:auto;line-height:normal;font-family:Menlo,'DejaVu Sans Mono',consolas,'Courier New',monospace\">┏━━━━━━━━━━━━━━━━━━━━━━━━━━━━━━━━━┳━━━━━━━━━━━━━━━━━━━━━━━━┳━━━━━━━━━━━━━━━┓\n",
       "┃<span style=\"font-weight: bold\"> Layer (type)                    </span>┃<span style=\"font-weight: bold\"> Output Shape           </span>┃<span style=\"font-weight: bold\">       Param # </span>┃\n",
       "┡━━━━━━━━━━━━━━━━━━━━━━━━━━━━━━━━━╇━━━━━━━━━━━━━━━━━━━━━━━━╇━━━━━━━━━━━━━━━┩\n",
       "│ text_vectorization_3            │ (<span style=\"color: #00d7ff; text-decoration-color: #00d7ff\">None</span>, <span style=\"color: #00af00; text-decoration-color: #00af00\">25</span>)             │             <span style=\"color: #00af00; text-decoration-color: #00af00\">0</span> │\n",
       "│ (<span style=\"color: #0087ff; text-decoration-color: #0087ff\">TextVectorization</span>)             │                        │               │\n",
       "├─────────────────────────────────┼────────────────────────┼───────────────┤\n",
       "│ embedding_3 (<span style=\"color: #0087ff; text-decoration-color: #0087ff\">Embedding</span>)         │ (<span style=\"color: #00d7ff; text-decoration-color: #00d7ff\">None</span>, <span style=\"color: #00af00; text-decoration-color: #00af00\">25</span>, <span style=\"color: #00af00; text-decoration-color: #00af00\">128</span>)        │       <span style=\"color: #00af00; text-decoration-color: #00af00\">640,000</span> │\n",
       "├─────────────────────────────────┼────────────────────────┼───────────────┤\n",
       "│ lstm_3 (<span style=\"color: #0087ff; text-decoration-color: #0087ff\">LSTM</span>)                   │ (<span style=\"color: #00d7ff; text-decoration-color: #00d7ff\">None</span>, <span style=\"color: #00af00; text-decoration-color: #00af00\">64</span>)             │        <span style=\"color: #00af00; text-decoration-color: #00af00\">49,408</span> │\n",
       "├─────────────────────────────────┼────────────────────────┼───────────────┤\n",
       "│ dense_3 (<span style=\"color: #0087ff; text-decoration-color: #0087ff\">Dense</span>)                 │ (<span style=\"color: #00d7ff; text-decoration-color: #00d7ff\">None</span>, <span style=\"color: #00af00; text-decoration-color: #00af00\">1</span>)              │            <span style=\"color: #00af00; text-decoration-color: #00af00\">65</span> │\n",
       "└─────────────────────────────────┴────────────────────────┴───────────────┘\n",
       "</pre>\n"
      ],
      "text/plain": [
       "┏━━━━━━━━━━━━━━━━━━━━━━━━━━━━━━━━━┳━━━━━━━━━━━━━━━━━━━━━━━━┳━━━━━━━━━━━━━━━┓\n",
       "┃\u001b[1m \u001b[0m\u001b[1mLayer (type)                   \u001b[0m\u001b[1m \u001b[0m┃\u001b[1m \u001b[0m\u001b[1mOutput Shape          \u001b[0m\u001b[1m \u001b[0m┃\u001b[1m \u001b[0m\u001b[1m      Param #\u001b[0m\u001b[1m \u001b[0m┃\n",
       "┡━━━━━━━━━━━━━━━━━━━━━━━━━━━━━━━━━╇━━━━━━━━━━━━━━━━━━━━━━━━╇━━━━━━━━━━━━━━━┩\n",
       "│ text_vectorization_3            │ (\u001b[38;5;45mNone\u001b[0m, \u001b[38;5;34m25\u001b[0m)             │             \u001b[38;5;34m0\u001b[0m │\n",
       "│ (\u001b[38;5;33mTextVectorization\u001b[0m)             │                        │               │\n",
       "├─────────────────────────────────┼────────────────────────┼───────────────┤\n",
       "│ embedding_3 (\u001b[38;5;33mEmbedding\u001b[0m)         │ (\u001b[38;5;45mNone\u001b[0m, \u001b[38;5;34m25\u001b[0m, \u001b[38;5;34m128\u001b[0m)        │       \u001b[38;5;34m640,000\u001b[0m │\n",
       "├─────────────────────────────────┼────────────────────────┼───────────────┤\n",
       "│ lstm_3 (\u001b[38;5;33mLSTM\u001b[0m)                   │ (\u001b[38;5;45mNone\u001b[0m, \u001b[38;5;34m64\u001b[0m)             │        \u001b[38;5;34m49,408\u001b[0m │\n",
       "├─────────────────────────────────┼────────────────────────┼───────────────┤\n",
       "│ dense_3 (\u001b[38;5;33mDense\u001b[0m)                 │ (\u001b[38;5;45mNone\u001b[0m, \u001b[38;5;34m1\u001b[0m)              │            \u001b[38;5;34m65\u001b[0m │\n",
       "└─────────────────────────────────┴────────────────────────┴───────────────┘\n"
      ]
     },
     "metadata": {},
     "output_type": "display_data"
    },
    {
     "data": {
      "text/html": [
       "<pre style=\"white-space:pre;overflow-x:auto;line-height:normal;font-family:Menlo,'DejaVu Sans Mono',consolas,'Courier New',monospace\"><span style=\"font-weight: bold\"> Total params: </span><span style=\"color: #00af00; text-decoration-color: #00af00\">2,068,421</span> (7.89 MB)\n",
       "</pre>\n"
      ],
      "text/plain": [
       "\u001b[1m Total params: \u001b[0m\u001b[38;5;34m2,068,421\u001b[0m (7.89 MB)\n"
      ]
     },
     "metadata": {},
     "output_type": "display_data"
    },
    {
     "data": {
      "text/html": [
       "<pre style=\"white-space:pre;overflow-x:auto;line-height:normal;font-family:Menlo,'DejaVu Sans Mono',consolas,'Courier New',monospace\"><span style=\"font-weight: bold\"> Trainable params: </span><span style=\"color: #00af00; text-decoration-color: #00af00\">689,473</span> (2.63 MB)\n",
       "</pre>\n"
      ],
      "text/plain": [
       "\u001b[1m Trainable params: \u001b[0m\u001b[38;5;34m689,473\u001b[0m (2.63 MB)\n"
      ]
     },
     "metadata": {},
     "output_type": "display_data"
    },
    {
     "data": {
      "text/html": [
       "<pre style=\"white-space:pre;overflow-x:auto;line-height:normal;font-family:Menlo,'DejaVu Sans Mono',consolas,'Courier New',monospace\"><span style=\"font-weight: bold\"> Non-trainable params: </span><span style=\"color: #00af00; text-decoration-color: #00af00\">0</span> (0.00 B)\n",
       "</pre>\n"
      ],
      "text/plain": [
       "\u001b[1m Non-trainable params: \u001b[0m\u001b[38;5;34m0\u001b[0m (0.00 B)\n"
      ]
     },
     "metadata": {},
     "output_type": "display_data"
    },
    {
     "data": {
      "text/html": [
       "<pre style=\"white-space:pre;overflow-x:auto;line-height:normal;font-family:Menlo,'DejaVu Sans Mono',consolas,'Courier New',monospace\"><span style=\"font-weight: bold\"> Optimizer params: </span><span style=\"color: #00af00; text-decoration-color: #00af00\">1,378,948</span> (5.26 MB)\n",
       "</pre>\n"
      ],
      "text/plain": [
       "\u001b[1m Optimizer params: \u001b[0m\u001b[38;5;34m1,378,948\u001b[0m (5.26 MB)\n"
      ]
     },
     "metadata": {},
     "output_type": "display_data"
    }
   ],
   "source": [
    "third_model = lstm_model(train_ds, val_ds, 5000, 25, 64, False)"
   ]
  },
  {
   "cell_type": "markdown",
   "id": "9b23d740-8535-4045-afa7-2bb1101df2e7",
   "metadata": {},
   "source": [
    "### Configuration 4\n",
    "\n",
    "An increased vocab size of 10000 combined with a BiLSTM layer: slight underfit due to almost 7% less training accuracy with respect to validation accuracy."
   ]
  },
  {
   "cell_type": "code",
   "execution_count": 13,
   "id": "eb0775c3-316c-4117-8ff8-5c112caa6a0f",
   "metadata": {},
   "outputs": [
    {
     "name": "stdout",
     "output_type": "stream",
     "text": [
      "Epoch 1/7\n",
      "\u001b[1m3281/3281\u001b[0m \u001b[32m━━━━━━━━━━━━━━━━━━━━\u001b[0m\u001b[37m\u001b[0m \u001b[1m193s\u001b[0m 57ms/step - accuracy: 0.7299 - loss: 0.5258 - val_accuracy: 0.7948 - val_loss: 0.4415\n",
      "Epoch 2/7\n",
      "\u001b[1m3281/3281\u001b[0m \u001b[32m━━━━━━━━━━━━━━━━━━━━\u001b[0m\u001b[37m\u001b[0m \u001b[1m187s\u001b[0m 57ms/step - accuracy: 0.8097 - loss: 0.4113 - val_accuracy: 0.7944 - val_loss: 0.4448\n",
      "Epoch 3/7\n",
      "\u001b[1m3281/3281\u001b[0m \u001b[32m━━━━━━━━━━━━━━━━━━━━\u001b[0m\u001b[37m\u001b[0m \u001b[1m186s\u001b[0m 57ms/step - accuracy: 0.8379 - loss: 0.3602 - val_accuracy: 0.7865 - val_loss: 0.4860\n",
      "Training Complete! Restoring Best Validation Accuracy: 0.7948079705238342\n"
     ]
    },
    {
     "data": {
      "text/html": [
       "<pre style=\"white-space:pre;overflow-x:auto;line-height:normal;font-family:Menlo,'DejaVu Sans Mono',consolas,'Courier New',monospace\"><span style=\"font-weight: bold\">Model: \"sequential_4\"</span>\n",
       "</pre>\n"
      ],
      "text/plain": [
       "\u001b[1mModel: \"sequential_4\"\u001b[0m\n"
      ]
     },
     "metadata": {},
     "output_type": "display_data"
    },
    {
     "data": {
      "text/html": [
       "<pre style=\"white-space:pre;overflow-x:auto;line-height:normal;font-family:Menlo,'DejaVu Sans Mono',consolas,'Courier New',monospace\">┏━━━━━━━━━━━━━━━━━━━━━━━━━━━━━━━━━┳━━━━━━━━━━━━━━━━━━━━━━━━┳━━━━━━━━━━━━━━━┓\n",
       "┃<span style=\"font-weight: bold\"> Layer (type)                    </span>┃<span style=\"font-weight: bold\"> Output Shape           </span>┃<span style=\"font-weight: bold\">       Param # </span>┃\n",
       "┡━━━━━━━━━━━━━━━━━━━━━━━━━━━━━━━━━╇━━━━━━━━━━━━━━━━━━━━━━━━╇━━━━━━━━━━━━━━━┩\n",
       "│ text_vectorization_4            │ (<span style=\"color: #00d7ff; text-decoration-color: #00d7ff\">None</span>, <span style=\"color: #00af00; text-decoration-color: #00af00\">50</span>)             │             <span style=\"color: #00af00; text-decoration-color: #00af00\">0</span> │\n",
       "│ (<span style=\"color: #0087ff; text-decoration-color: #0087ff\">TextVectorization</span>)             │                        │               │\n",
       "├─────────────────────────────────┼────────────────────────┼───────────────┤\n",
       "│ embedding_4 (<span style=\"color: #0087ff; text-decoration-color: #0087ff\">Embedding</span>)         │ (<span style=\"color: #00d7ff; text-decoration-color: #00d7ff\">None</span>, <span style=\"color: #00af00; text-decoration-color: #00af00\">50</span>, <span style=\"color: #00af00; text-decoration-color: #00af00\">128</span>)        │     <span style=\"color: #00af00; text-decoration-color: #00af00\">1,280,000</span> │\n",
       "├─────────────────────────────────┼────────────────────────┼───────────────┤\n",
       "│ bidirectional_1 (<span style=\"color: #0087ff; text-decoration-color: #0087ff\">Bidirectional</span>) │ (<span style=\"color: #00d7ff; text-decoration-color: #00d7ff\">None</span>, <span style=\"color: #00af00; text-decoration-color: #00af00\">128</span>)            │        <span style=\"color: #00af00; text-decoration-color: #00af00\">98,816</span> │\n",
       "├─────────────────────────────────┼────────────────────────┼───────────────┤\n",
       "│ dense_4 (<span style=\"color: #0087ff; text-decoration-color: #0087ff\">Dense</span>)                 │ (<span style=\"color: #00d7ff; text-decoration-color: #00d7ff\">None</span>, <span style=\"color: #00af00; text-decoration-color: #00af00\">1</span>)              │           <span style=\"color: #00af00; text-decoration-color: #00af00\">129</span> │\n",
       "└─────────────────────────────────┴────────────────────────┴───────────────┘\n",
       "</pre>\n"
      ],
      "text/plain": [
       "┏━━━━━━━━━━━━━━━━━━━━━━━━━━━━━━━━━┳━━━━━━━━━━━━━━━━━━━━━━━━┳━━━━━━━━━━━━━━━┓\n",
       "┃\u001b[1m \u001b[0m\u001b[1mLayer (type)                   \u001b[0m\u001b[1m \u001b[0m┃\u001b[1m \u001b[0m\u001b[1mOutput Shape          \u001b[0m\u001b[1m \u001b[0m┃\u001b[1m \u001b[0m\u001b[1m      Param #\u001b[0m\u001b[1m \u001b[0m┃\n",
       "┡━━━━━━━━━━━━━━━━━━━━━━━━━━━━━━━━━╇━━━━━━━━━━━━━━━━━━━━━━━━╇━━━━━━━━━━━━━━━┩\n",
       "│ text_vectorization_4            │ (\u001b[38;5;45mNone\u001b[0m, \u001b[38;5;34m50\u001b[0m)             │             \u001b[38;5;34m0\u001b[0m │\n",
       "│ (\u001b[38;5;33mTextVectorization\u001b[0m)             │                        │               │\n",
       "├─────────────────────────────────┼────────────────────────┼───────────────┤\n",
       "│ embedding_4 (\u001b[38;5;33mEmbedding\u001b[0m)         │ (\u001b[38;5;45mNone\u001b[0m, \u001b[38;5;34m50\u001b[0m, \u001b[38;5;34m128\u001b[0m)        │     \u001b[38;5;34m1,280,000\u001b[0m │\n",
       "├─────────────────────────────────┼────────────────────────┼───────────────┤\n",
       "│ bidirectional_1 (\u001b[38;5;33mBidirectional\u001b[0m) │ (\u001b[38;5;45mNone\u001b[0m, \u001b[38;5;34m128\u001b[0m)            │        \u001b[38;5;34m98,816\u001b[0m │\n",
       "├─────────────────────────────────┼────────────────────────┼───────────────┤\n",
       "│ dense_4 (\u001b[38;5;33mDense\u001b[0m)                 │ (\u001b[38;5;45mNone\u001b[0m, \u001b[38;5;34m1\u001b[0m)              │           \u001b[38;5;34m129\u001b[0m │\n",
       "└─────────────────────────────────┴────────────────────────┴───────────────┘\n"
      ]
     },
     "metadata": {},
     "output_type": "display_data"
    },
    {
     "data": {
      "text/html": [
       "<pre style=\"white-space:pre;overflow-x:auto;line-height:normal;font-family:Menlo,'DejaVu Sans Mono',consolas,'Courier New',monospace\"><span style=\"font-weight: bold\"> Total params: </span><span style=\"color: #00af00; text-decoration-color: #00af00\">4,136,837</span> (15.78 MB)\n",
       "</pre>\n"
      ],
      "text/plain": [
       "\u001b[1m Total params: \u001b[0m\u001b[38;5;34m4,136,837\u001b[0m (15.78 MB)\n"
      ]
     },
     "metadata": {},
     "output_type": "display_data"
    },
    {
     "data": {
      "text/html": [
       "<pre style=\"white-space:pre;overflow-x:auto;line-height:normal;font-family:Menlo,'DejaVu Sans Mono',consolas,'Courier New',monospace\"><span style=\"font-weight: bold\"> Trainable params: </span><span style=\"color: #00af00; text-decoration-color: #00af00\">1,378,945</span> (5.26 MB)\n",
       "</pre>\n"
      ],
      "text/plain": [
       "\u001b[1m Trainable params: \u001b[0m\u001b[38;5;34m1,378,945\u001b[0m (5.26 MB)\n"
      ]
     },
     "metadata": {},
     "output_type": "display_data"
    },
    {
     "data": {
      "text/html": [
       "<pre style=\"white-space:pre;overflow-x:auto;line-height:normal;font-family:Menlo,'DejaVu Sans Mono',consolas,'Courier New',monospace\"><span style=\"font-weight: bold\"> Non-trainable params: </span><span style=\"color: #00af00; text-decoration-color: #00af00\">0</span> (0.00 B)\n",
       "</pre>\n"
      ],
      "text/plain": [
       "\u001b[1m Non-trainable params: \u001b[0m\u001b[38;5;34m0\u001b[0m (0.00 B)\n"
      ]
     },
     "metadata": {},
     "output_type": "display_data"
    },
    {
     "data": {
      "text/html": [
       "<pre style=\"white-space:pre;overflow-x:auto;line-height:normal;font-family:Menlo,'DejaVu Sans Mono',consolas,'Courier New',monospace\"><span style=\"font-weight: bold\"> Optimizer params: </span><span style=\"color: #00af00; text-decoration-color: #00af00\">2,757,892</span> (10.52 MB)\n",
       "</pre>\n"
      ],
      "text/plain": [
       "\u001b[1m Optimizer params: \u001b[0m\u001b[38;5;34m2,757,892\u001b[0m (10.52 MB)\n"
      ]
     },
     "metadata": {},
     "output_type": "display_data"
    }
   ],
   "source": [
    "fourth_model = lstm_model(train_ds, val_ds, 10000, 50, 64, True)"
   ]
  },
  {
   "cell_type": "markdown",
   "id": "da8d63aa-bace-48fe-b41a-37ab80b479cb",
   "metadata": {},
   "source": [
    "### Configuration 5\n",
    "\n",
    "Same as configuration 4, but with 20000 as vocab size: again we can see the model slightly underfits due to its training accuracy being lower than its validation accuracy by approximately 6%."
   ]
  },
  {
   "cell_type": "code",
   "execution_count": 14,
   "id": "5b12b1cf-3986-49b9-b593-fa0510a352d7",
   "metadata": {},
   "outputs": [
    {
     "name": "stdout",
     "output_type": "stream",
     "text": [
      "Epoch 1/7\n",
      "\u001b[1m3281/3281\u001b[0m \u001b[32m━━━━━━━━━━━━━━━━━━━━\u001b[0m\u001b[37m\u001b[0m \u001b[1m211s\u001b[0m 64ms/step - accuracy: 0.7327 - loss: 0.5239 - val_accuracy: 0.7981 - val_loss: 0.4367\n",
      "Epoch 2/7\n",
      "\u001b[1m3281/3281\u001b[0m \u001b[32m━━━━━━━━━━━━━━━━━━━━\u001b[0m\u001b[37m\u001b[0m \u001b[1m207s\u001b[0m 63ms/step - accuracy: 0.8181 - loss: 0.3987 - val_accuracy: 0.7933 - val_loss: 0.4513\n",
      "Epoch 3/7\n",
      "\u001b[1m3281/3281\u001b[0m \u001b[32m━━━━━━━━━━━━━━━━━━━━\u001b[0m\u001b[37m\u001b[0m \u001b[1m219s\u001b[0m 67ms/step - accuracy: 0.8553 - loss: 0.3304 - val_accuracy: 0.7766 - val_loss: 0.5326\n",
      "Training Complete! Restoring Best Validation Accuracy: 0.798052966594696\n"
     ]
    },
    {
     "data": {
      "text/html": [
       "<pre style=\"white-space:pre;overflow-x:auto;line-height:normal;font-family:Menlo,'DejaVu Sans Mono',consolas,'Courier New',monospace\"><span style=\"font-weight: bold\">Model: \"sequential_5\"</span>\n",
       "</pre>\n"
      ],
      "text/plain": [
       "\u001b[1mModel: \"sequential_5\"\u001b[0m\n"
      ]
     },
     "metadata": {},
     "output_type": "display_data"
    },
    {
     "data": {
      "text/html": [
       "<pre style=\"white-space:pre;overflow-x:auto;line-height:normal;font-family:Menlo,'DejaVu Sans Mono',consolas,'Courier New',monospace\">┏━━━━━━━━━━━━━━━━━━━━━━━━━━━━━━━━━┳━━━━━━━━━━━━━━━━━━━━━━━━┳━━━━━━━━━━━━━━━┓\n",
       "┃<span style=\"font-weight: bold\"> Layer (type)                    </span>┃<span style=\"font-weight: bold\"> Output Shape           </span>┃<span style=\"font-weight: bold\">       Param # </span>┃\n",
       "┡━━━━━━━━━━━━━━━━━━━━━━━━━━━━━━━━━╇━━━━━━━━━━━━━━━━━━━━━━━━╇━━━━━━━━━━━━━━━┩\n",
       "│ text_vectorization_5            │ (<span style=\"color: #00d7ff; text-decoration-color: #00d7ff\">None</span>, <span style=\"color: #00af00; text-decoration-color: #00af00\">50</span>)             │             <span style=\"color: #00af00; text-decoration-color: #00af00\">0</span> │\n",
       "│ (<span style=\"color: #0087ff; text-decoration-color: #0087ff\">TextVectorization</span>)             │                        │               │\n",
       "├─────────────────────────────────┼────────────────────────┼───────────────┤\n",
       "│ embedding_5 (<span style=\"color: #0087ff; text-decoration-color: #0087ff\">Embedding</span>)         │ (<span style=\"color: #00d7ff; text-decoration-color: #00d7ff\">None</span>, <span style=\"color: #00af00; text-decoration-color: #00af00\">50</span>, <span style=\"color: #00af00; text-decoration-color: #00af00\">128</span>)        │     <span style=\"color: #00af00; text-decoration-color: #00af00\">2,560,000</span> │\n",
       "├─────────────────────────────────┼────────────────────────┼───────────────┤\n",
       "│ bidirectional_2 (<span style=\"color: #0087ff; text-decoration-color: #0087ff\">Bidirectional</span>) │ (<span style=\"color: #00d7ff; text-decoration-color: #00d7ff\">None</span>, <span style=\"color: #00af00; text-decoration-color: #00af00\">128</span>)            │        <span style=\"color: #00af00; text-decoration-color: #00af00\">98,816</span> │\n",
       "├─────────────────────────────────┼────────────────────────┼───────────────┤\n",
       "│ dense_5 (<span style=\"color: #0087ff; text-decoration-color: #0087ff\">Dense</span>)                 │ (<span style=\"color: #00d7ff; text-decoration-color: #00d7ff\">None</span>, <span style=\"color: #00af00; text-decoration-color: #00af00\">1</span>)              │           <span style=\"color: #00af00; text-decoration-color: #00af00\">129</span> │\n",
       "└─────────────────────────────────┴────────────────────────┴───────────────┘\n",
       "</pre>\n"
      ],
      "text/plain": [
       "┏━━━━━━━━━━━━━━━━━━━━━━━━━━━━━━━━━┳━━━━━━━━━━━━━━━━━━━━━━━━┳━━━━━━━━━━━━━━━┓\n",
       "┃\u001b[1m \u001b[0m\u001b[1mLayer (type)                   \u001b[0m\u001b[1m \u001b[0m┃\u001b[1m \u001b[0m\u001b[1mOutput Shape          \u001b[0m\u001b[1m \u001b[0m┃\u001b[1m \u001b[0m\u001b[1m      Param #\u001b[0m\u001b[1m \u001b[0m┃\n",
       "┡━━━━━━━━━━━━━━━━━━━━━━━━━━━━━━━━━╇━━━━━━━━━━━━━━━━━━━━━━━━╇━━━━━━━━━━━━━━━┩\n",
       "│ text_vectorization_5            │ (\u001b[38;5;45mNone\u001b[0m, \u001b[38;5;34m50\u001b[0m)             │             \u001b[38;5;34m0\u001b[0m │\n",
       "│ (\u001b[38;5;33mTextVectorization\u001b[0m)             │                        │               │\n",
       "├─────────────────────────────────┼────────────────────────┼───────────────┤\n",
       "│ embedding_5 (\u001b[38;5;33mEmbedding\u001b[0m)         │ (\u001b[38;5;45mNone\u001b[0m, \u001b[38;5;34m50\u001b[0m, \u001b[38;5;34m128\u001b[0m)        │     \u001b[38;5;34m2,560,000\u001b[0m │\n",
       "├─────────────────────────────────┼────────────────────────┼───────────────┤\n",
       "│ bidirectional_2 (\u001b[38;5;33mBidirectional\u001b[0m) │ (\u001b[38;5;45mNone\u001b[0m, \u001b[38;5;34m128\u001b[0m)            │        \u001b[38;5;34m98,816\u001b[0m │\n",
       "├─────────────────────────────────┼────────────────────────┼───────────────┤\n",
       "│ dense_5 (\u001b[38;5;33mDense\u001b[0m)                 │ (\u001b[38;5;45mNone\u001b[0m, \u001b[38;5;34m1\u001b[0m)              │           \u001b[38;5;34m129\u001b[0m │\n",
       "└─────────────────────────────────┴────────────────────────┴───────────────┘\n"
      ]
     },
     "metadata": {},
     "output_type": "display_data"
    },
    {
     "data": {
      "text/html": [
       "<pre style=\"white-space:pre;overflow-x:auto;line-height:normal;font-family:Menlo,'DejaVu Sans Mono',consolas,'Courier New',monospace\"><span style=\"font-weight: bold\"> Total params: </span><span style=\"color: #00af00; text-decoration-color: #00af00\">7,976,837</span> (30.43 MB)\n",
       "</pre>\n"
      ],
      "text/plain": [
       "\u001b[1m Total params: \u001b[0m\u001b[38;5;34m7,976,837\u001b[0m (30.43 MB)\n"
      ]
     },
     "metadata": {},
     "output_type": "display_data"
    },
    {
     "data": {
      "text/html": [
       "<pre style=\"white-space:pre;overflow-x:auto;line-height:normal;font-family:Menlo,'DejaVu Sans Mono',consolas,'Courier New',monospace\"><span style=\"font-weight: bold\"> Trainable params: </span><span style=\"color: #00af00; text-decoration-color: #00af00\">2,658,945</span> (10.14 MB)\n",
       "</pre>\n"
      ],
      "text/plain": [
       "\u001b[1m Trainable params: \u001b[0m\u001b[38;5;34m2,658,945\u001b[0m (10.14 MB)\n"
      ]
     },
     "metadata": {},
     "output_type": "display_data"
    },
    {
     "data": {
      "text/html": [
       "<pre style=\"white-space:pre;overflow-x:auto;line-height:normal;font-family:Menlo,'DejaVu Sans Mono',consolas,'Courier New',monospace\"><span style=\"font-weight: bold\"> Non-trainable params: </span><span style=\"color: #00af00; text-decoration-color: #00af00\">0</span> (0.00 B)\n",
       "</pre>\n"
      ],
      "text/plain": [
       "\u001b[1m Non-trainable params: \u001b[0m\u001b[38;5;34m0\u001b[0m (0.00 B)\n"
      ]
     },
     "metadata": {},
     "output_type": "display_data"
    },
    {
     "data": {
      "text/html": [
       "<pre style=\"white-space:pre;overflow-x:auto;line-height:normal;font-family:Menlo,'DejaVu Sans Mono',consolas,'Courier New',monospace\"><span style=\"font-weight: bold\"> Optimizer params: </span><span style=\"color: #00af00; text-decoration-color: #00af00\">5,317,892</span> (20.29 MB)\n",
       "</pre>\n"
      ],
      "text/plain": [
       "\u001b[1m Optimizer params: \u001b[0m\u001b[38;5;34m5,317,892\u001b[0m (20.29 MB)\n"
      ]
     },
     "metadata": {},
     "output_type": "display_data"
    }
   ],
   "source": [
    "fifth_model = lstm_model(train_ds, val_ds, 20000, 50, 64, True)"
   ]
  },
  {
   "cell_type": "markdown",
   "id": "e61e2d1b-3636-4209-ab2e-9612cf129d74",
   "metadata": {},
   "source": [
    "### Configuration 6\n",
    "\n",
    "128 hidden units in a BiLSTM layer and 10000 vocabulary size. Again a slight underfit of about 7%."
   ]
  },
  {
   "cell_type": "code",
   "execution_count": 15,
   "id": "234a53e8-558f-4867-a17a-38401e8fff77",
   "metadata": {},
   "outputs": [
    {
     "name": "stdout",
     "output_type": "stream",
     "text": [
      "Epoch 1/7\n",
      "\u001b[1m3281/3281\u001b[0m \u001b[32m━━━━━━━━━━━━━━━━━━━━\u001b[0m\u001b[37m\u001b[0m \u001b[1m208s\u001b[0m 63ms/step - accuracy: 0.7255 - loss: 0.5300 - val_accuracy: 0.7965 - val_loss: 0.4379\n",
      "Epoch 2/7\n",
      "\u001b[1m3281/3281\u001b[0m \u001b[32m━━━━━━━━━━━━━━━━━━━━\u001b[0m\u001b[37m\u001b[0m \u001b[1m204s\u001b[0m 62ms/step - accuracy: 0.8108 - loss: 0.4114 - val_accuracy: 0.7939 - val_loss: 0.4448\n",
      "Epoch 3/7\n",
      "\u001b[1m3281/3281\u001b[0m \u001b[32m━━━━━━━━━━━━━━━━━━━━\u001b[0m\u001b[37m\u001b[0m \u001b[1m196s\u001b[0m 60ms/step - accuracy: 0.8366 - loss: 0.3637 - val_accuracy: 0.7882 - val_loss: 0.4838\n",
      "Training Complete! Restoring Best Validation Accuracy: 0.7964971661567688\n"
     ]
    },
    {
     "data": {
      "text/html": [
       "<pre style=\"white-space:pre;overflow-x:auto;line-height:normal;font-family:Menlo,'DejaVu Sans Mono',consolas,'Courier New',monospace\"><span style=\"font-weight: bold\">Model: \"sequential_6\"</span>\n",
       "</pre>\n"
      ],
      "text/plain": [
       "\u001b[1mModel: \"sequential_6\"\u001b[0m\n"
      ]
     },
     "metadata": {},
     "output_type": "display_data"
    },
    {
     "data": {
      "text/html": [
       "<pre style=\"white-space:pre;overflow-x:auto;line-height:normal;font-family:Menlo,'DejaVu Sans Mono',consolas,'Courier New',monospace\">┏━━━━━━━━━━━━━━━━━━━━━━━━━━━━━━━━━┳━━━━━━━━━━━━━━━━━━━━━━━━┳━━━━━━━━━━━━━━━┓\n",
       "┃<span style=\"font-weight: bold\"> Layer (type)                    </span>┃<span style=\"font-weight: bold\"> Output Shape           </span>┃<span style=\"font-weight: bold\">       Param # </span>┃\n",
       "┡━━━━━━━━━━━━━━━━━━━━━━━━━━━━━━━━━╇━━━━━━━━━━━━━━━━━━━━━━━━╇━━━━━━━━━━━━━━━┩\n",
       "│ text_vectorization_6            │ (<span style=\"color: #00d7ff; text-decoration-color: #00d7ff\">None</span>, <span style=\"color: #00af00; text-decoration-color: #00af00\">50</span>)             │             <span style=\"color: #00af00; text-decoration-color: #00af00\">0</span> │\n",
       "│ (<span style=\"color: #0087ff; text-decoration-color: #0087ff\">TextVectorization</span>)             │                        │               │\n",
       "├─────────────────────────────────┼────────────────────────┼───────────────┤\n",
       "│ embedding_6 (<span style=\"color: #0087ff; text-decoration-color: #0087ff\">Embedding</span>)         │ (<span style=\"color: #00d7ff; text-decoration-color: #00d7ff\">None</span>, <span style=\"color: #00af00; text-decoration-color: #00af00\">50</span>, <span style=\"color: #00af00; text-decoration-color: #00af00\">128</span>)        │     <span style=\"color: #00af00; text-decoration-color: #00af00\">1,280,000</span> │\n",
       "├─────────────────────────────────┼────────────────────────┼───────────────┤\n",
       "│ bidirectional_3 (<span style=\"color: #0087ff; text-decoration-color: #0087ff\">Bidirectional</span>) │ (<span style=\"color: #00d7ff; text-decoration-color: #00d7ff\">None</span>, <span style=\"color: #00af00; text-decoration-color: #00af00\">256</span>)            │       <span style=\"color: #00af00; text-decoration-color: #00af00\">263,168</span> │\n",
       "├─────────────────────────────────┼────────────────────────┼───────────────┤\n",
       "│ dense_6 (<span style=\"color: #0087ff; text-decoration-color: #0087ff\">Dense</span>)                 │ (<span style=\"color: #00d7ff; text-decoration-color: #00d7ff\">None</span>, <span style=\"color: #00af00; text-decoration-color: #00af00\">1</span>)              │           <span style=\"color: #00af00; text-decoration-color: #00af00\">257</span> │\n",
       "└─────────────────────────────────┴────────────────────────┴───────────────┘\n",
       "</pre>\n"
      ],
      "text/plain": [
       "┏━━━━━━━━━━━━━━━━━━━━━━━━━━━━━━━━━┳━━━━━━━━━━━━━━━━━━━━━━━━┳━━━━━━━━━━━━━━━┓\n",
       "┃\u001b[1m \u001b[0m\u001b[1mLayer (type)                   \u001b[0m\u001b[1m \u001b[0m┃\u001b[1m \u001b[0m\u001b[1mOutput Shape          \u001b[0m\u001b[1m \u001b[0m┃\u001b[1m \u001b[0m\u001b[1m      Param #\u001b[0m\u001b[1m \u001b[0m┃\n",
       "┡━━━━━━━━━━━━━━━━━━━━━━━━━━━━━━━━━╇━━━━━━━━━━━━━━━━━━━━━━━━╇━━━━━━━━━━━━━━━┩\n",
       "│ text_vectorization_6            │ (\u001b[38;5;45mNone\u001b[0m, \u001b[38;5;34m50\u001b[0m)             │             \u001b[38;5;34m0\u001b[0m │\n",
       "│ (\u001b[38;5;33mTextVectorization\u001b[0m)             │                        │               │\n",
       "├─────────────────────────────────┼────────────────────────┼───────────────┤\n",
       "│ embedding_6 (\u001b[38;5;33mEmbedding\u001b[0m)         │ (\u001b[38;5;45mNone\u001b[0m, \u001b[38;5;34m50\u001b[0m, \u001b[38;5;34m128\u001b[0m)        │     \u001b[38;5;34m1,280,000\u001b[0m │\n",
       "├─────────────────────────────────┼────────────────────────┼───────────────┤\n",
       "│ bidirectional_3 (\u001b[38;5;33mBidirectional\u001b[0m) │ (\u001b[38;5;45mNone\u001b[0m, \u001b[38;5;34m256\u001b[0m)            │       \u001b[38;5;34m263,168\u001b[0m │\n",
       "├─────────────────────────────────┼────────────────────────┼───────────────┤\n",
       "│ dense_6 (\u001b[38;5;33mDense\u001b[0m)                 │ (\u001b[38;5;45mNone\u001b[0m, \u001b[38;5;34m1\u001b[0m)              │           \u001b[38;5;34m257\u001b[0m │\n",
       "└─────────────────────────────────┴────────────────────────┴───────────────┘\n"
      ]
     },
     "metadata": {},
     "output_type": "display_data"
    },
    {
     "data": {
      "text/html": [
       "<pre style=\"white-space:pre;overflow-x:auto;line-height:normal;font-family:Menlo,'DejaVu Sans Mono',consolas,'Courier New',monospace\"><span style=\"font-weight: bold\"> Total params: </span><span style=\"color: #00af00; text-decoration-color: #00af00\">4,630,277</span> (17.66 MB)\n",
       "</pre>\n"
      ],
      "text/plain": [
       "\u001b[1m Total params: \u001b[0m\u001b[38;5;34m4,630,277\u001b[0m (17.66 MB)\n"
      ]
     },
     "metadata": {},
     "output_type": "display_data"
    },
    {
     "data": {
      "text/html": [
       "<pre style=\"white-space:pre;overflow-x:auto;line-height:normal;font-family:Menlo,'DejaVu Sans Mono',consolas,'Courier New',monospace\"><span style=\"font-weight: bold\"> Trainable params: </span><span style=\"color: #00af00; text-decoration-color: #00af00\">1,543,425</span> (5.89 MB)\n",
       "</pre>\n"
      ],
      "text/plain": [
       "\u001b[1m Trainable params: \u001b[0m\u001b[38;5;34m1,543,425\u001b[0m (5.89 MB)\n"
      ]
     },
     "metadata": {},
     "output_type": "display_data"
    },
    {
     "data": {
      "text/html": [
       "<pre style=\"white-space:pre;overflow-x:auto;line-height:normal;font-family:Menlo,'DejaVu Sans Mono',consolas,'Courier New',monospace\"><span style=\"font-weight: bold\"> Non-trainable params: </span><span style=\"color: #00af00; text-decoration-color: #00af00\">0</span> (0.00 B)\n",
       "</pre>\n"
      ],
      "text/plain": [
       "\u001b[1m Non-trainable params: \u001b[0m\u001b[38;5;34m0\u001b[0m (0.00 B)\n"
      ]
     },
     "metadata": {},
     "output_type": "display_data"
    },
    {
     "data": {
      "text/html": [
       "<pre style=\"white-space:pre;overflow-x:auto;line-height:normal;font-family:Menlo,'DejaVu Sans Mono',consolas,'Courier New',monospace\"><span style=\"font-weight: bold\"> Optimizer params: </span><span style=\"color: #00af00; text-decoration-color: #00af00\">3,086,852</span> (11.78 MB)\n",
       "</pre>\n"
      ],
      "text/plain": [
       "\u001b[1m Optimizer params: \u001b[0m\u001b[38;5;34m3,086,852\u001b[0m (11.78 MB)\n"
      ]
     },
     "metadata": {},
     "output_type": "display_data"
    }
   ],
   "source": [
    "sixth_model = lstm_model(train_ds, val_ds, 10000, 50, 128, True)"
   ]
  },
  {
   "cell_type": "markdown",
   "id": "6ae7efc6-620d-4362-a711-30f422300dd8",
   "metadata": {},
   "source": [
    "We can see that almost all the configurations tend to underfit the training data, meaning that the model might not be complex enough to capture data patterns/relationships between features and labels."
   ]
  },
  {
   "cell_type": "markdown",
   "id": "d2a53c2b-90f5-40b2-957e-cc449a681609",
   "metadata": {},
   "source": [
    "## More complex model\n",
    "\n",
    "Due to the previous model being too simple for our sentiment analysis task, we delve into a more complex approach. The vectorization and embedding layers are defined in the same way as before; we now have:\n",
    "* A **fixed BiLSTM layer** with number of units as hyperparameter.\n",
    "* A **Normalization layer (LayerNorm)**.\n",
    "* A **Dense layer with 128 units** and `relu` as activation function.\n",
    "* **Another Normalization layer (LayerNorm)**.\n",
    "* A final Dense layer with sigmoid activation function.\n",
    "\n",
    "In this more complex approach, we focus on a BiLSTM layer in order to better capture long-range dependencies, since it reads input both forward and backward. This can be particularly beneficial for understanding the sentiment of a tweet, as words often carry different meanings depending on their surrounding context.\n",
    "\n",
    "Two LayerNorms are added after the BiLSTM and Dense layers respectively: these help in stablizing and accelerating training by normalizing the inputs to each layer; it ensures that the model processes information consistently, regardless of the input’s scale or distribution. \n",
    "We don't use a BatchNorm layer since it normalizes each feature within a batch of samples; LayerNorm, on the other hand, normalizes all features within each sample and is thus more suitable for a RNN; this is because the different features of a single sample are actually the variations in words over time, and the feature relationships within the sample are very close.\n",
    "\n",
    "The fully connected dense layer provides non-linearity and allows the model to learn higher-level representations.\n",
    "\n",
    "We use a different optimization algorithm, `rmsprop`, that generally works well with models prone to vanishing or exploding gradients and may have less computational overhead with respect to Adam due to the absence of momentum."
   ]
  },
  {
   "cell_type": "code",
   "execution_count": 12,
   "id": "93104eeb-5ecd-4e56-be49-864016dce6c8",
   "metadata": {},
   "outputs": [],
   "source": [
    "def alt_model(train_ds, val_ds, vocab_size, seq_length, units):\n",
    "\n",
    "    vectorizationLayer = tf.keras.layers.TextVectorization(\n",
    "        max_tokens=vocab_size,\n",
    "        output_mode='int',\n",
    "        output_sequence_length=seq_length)\n",
    "    train_text = train_ds.map(lambda x, y: x)\n",
    "    vectorizationLayer.adapt(train_text)\n",
    "\n",
    "    embedding_layer = tf.keras.layers.Embedding(vocab_size, 128)\n",
    "\n",
    "    model = tf.keras.models.Sequential()\n",
    "    model.add(vectorizationLayer)\n",
    "    model.add(embedding_layer)\n",
    "    model.add(tf.keras.layers.Bidirectional(tf.keras.layers.LSTM(units)))\n",
    "    model.add(tf.keras.layers.LayerNormalization())\n",
    "    model.add(tf.keras.layers.Dense(128, activation='relu'))\n",
    "    model.add(tf.keras.layers.LayerNormalization())\n",
    "    model.add(tf.keras.layers.Dense(1, activation='sigmoid'))\n",
    "\n",
    "    model.compile(loss='binary_crossentropy', optimizer='rmsprop', metrics=['accuracy'])\n",
    "\n",
    "    history = model.fit(train_ds,\n",
    "              epochs=7,\n",
    "              verbose=1,\n",
    "              callbacks=[tf.keras.callbacks.EarlyStopping(monitor=\"val_loss\", patience=2, restore_best_weights=True), PrintBestValAccuracy()],\n",
    "              validation_data=val_ds)\n",
    "\n",
    "    return model, history "
   ]
  },
  {
   "cell_type": "code",
   "execution_count": 16,
   "id": "d9034004-601d-4f6c-8e6b-ab16b55095cf",
   "metadata": {},
   "outputs": [
    {
     "name": "stdout",
     "output_type": "stream",
     "text": [
      "Epoch 1/7\n",
      "\u001b[1m3281/3281\u001b[0m \u001b[32m━━━━━━━━━━━━━━━━━━━━\u001b[0m\u001b[37m\u001b[0m \u001b[1m244s\u001b[0m 74ms/step - accuracy: 0.7077 - loss: 0.5633 - val_accuracy: 0.7820 - val_loss: 0.4640\n",
      "Epoch 2/7\n",
      "\u001b[1m3281/3281\u001b[0m \u001b[32m━━━━━━━━━━━━━━━━━━━━\u001b[0m\u001b[37m\u001b[0m \u001b[1m212s\u001b[0m 65ms/step - accuracy: 0.7877 - loss: 0.4530 - val_accuracy: 0.7949 - val_loss: 0.4430\n",
      "Epoch 3/7\n",
      "\u001b[1m3281/3281\u001b[0m \u001b[32m━━━━━━━━━━━━━━━━━━━━\u001b[0m\u001b[37m\u001b[0m \u001b[1m211s\u001b[0m 64ms/step - accuracy: 0.8038 - loss: 0.4260 - val_accuracy: 0.7977 - val_loss: 0.4366\n",
      "Epoch 4/7\n",
      "\u001b[1m3281/3281\u001b[0m \u001b[32m━━━━━━━━━━━━━━━━━━━━\u001b[0m\u001b[37m\u001b[0m \u001b[1m214s\u001b[0m 65ms/step - accuracy: 0.8177 - loss: 0.4065 - val_accuracy: 0.7940 - val_loss: 0.4446\n",
      "Epoch 5/7\n",
      "\u001b[1m3281/3281\u001b[0m \u001b[32m━━━━━━━━━━━━━━━━━━━━\u001b[0m\u001b[37m\u001b[0m \u001b[1m208s\u001b[0m 63ms/step - accuracy: 0.8272 - loss: 0.3904 - val_accuracy: 0.7930 - val_loss: 0.4443\n",
      "Training Complete! Restoring Best Validation Accuracy: 0.7976973652839661\n"
     ]
    }
   ],
   "source": [
    "first_config, history1 = alt_model(train_ds, val_ds, 10000, 50, 64)"
   ]
  },
  {
   "cell_type": "code",
   "execution_count": 17,
   "id": "b7c18c4b-990f-43ec-91f9-b7a5fb140294",
   "metadata": {},
   "outputs": [
    {
     "name": "stdout",
     "output_type": "stream",
     "text": [
      "Epoch 1/7\n",
      "\u001b[1m3281/3281\u001b[0m \u001b[32m━━━━━━━━━━━━━━━━━━━━\u001b[0m\u001b[37m\u001b[0m \u001b[1m230s\u001b[0m 68ms/step - accuracy: 0.7138 - loss: 0.5559 - val_accuracy: 0.7839 - val_loss: 0.4598\n",
      "Epoch 2/7\n",
      "\u001b[1m3281/3281\u001b[0m \u001b[32m━━━━━━━━━━━━━━━━━━━━\u001b[0m\u001b[37m\u001b[0m \u001b[1m236s\u001b[0m 72ms/step - accuracy: 0.7925 - loss: 0.4478 - val_accuracy: 0.7932 - val_loss: 0.4446\n",
      "Epoch 3/7\n",
      "\u001b[1m3281/3281\u001b[0m \u001b[32m━━━━━━━━━━━━━━━━━━━━\u001b[0m\u001b[37m\u001b[0m \u001b[1m237s\u001b[0m 72ms/step - accuracy: 0.8083 - loss: 0.4170 - val_accuracy: 0.7962 - val_loss: 0.4424\n",
      "Epoch 4/7\n",
      "\u001b[1m3281/3281\u001b[0m \u001b[32m━━━━━━━━━━━━━━━━━━━━\u001b[0m\u001b[37m\u001b[0m \u001b[1m225s\u001b[0m 68ms/step - accuracy: 0.8253 - loss: 0.3913 - val_accuracy: 0.8002 - val_loss: 0.4419\n",
      "Epoch 5/7\n",
      "\u001b[1m3281/3281\u001b[0m \u001b[32m━━━━━━━━━━━━━━━━━━━━\u001b[0m\u001b[37m\u001b[0m \u001b[1m223s\u001b[0m 68ms/step - accuracy: 0.8419 - loss: 0.3685 - val_accuracy: 0.7950 - val_loss: 0.4498\n",
      "Epoch 6/7\n",
      "\u001b[1m3281/3281\u001b[0m \u001b[32m━━━━━━━━━━━━━━━━━━━━\u001b[0m\u001b[37m\u001b[0m \u001b[1m236s\u001b[0m 72ms/step - accuracy: 0.8543 - loss: 0.3472 - val_accuracy: 0.7906 - val_loss: 0.4694\n",
      "Training Complete! Restoring Best Validation Accuracy: 0.8001866936683655\n"
     ]
    }
   ],
   "source": [
    "second_config, history2 = alt_model(train_ds, val_ds, 20000, 50, 64)"
   ]
  },
  {
   "cell_type": "code",
   "execution_count": 18,
   "id": "0402adfe-7391-431e-a73f-275b7aae02b8",
   "metadata": {},
   "outputs": [
    {
     "name": "stdout",
     "output_type": "stream",
     "text": [
      "Epoch 1/7\n",
      "\u001b[1m3281/3281\u001b[0m \u001b[32m━━━━━━━━━━━━━━━━━━━━\u001b[0m\u001b[37m\u001b[0m \u001b[1m223s\u001b[0m 67ms/step - accuracy: 0.7042 - loss: 0.5722 - val_accuracy: 0.7683 - val_loss: 0.4867\n",
      "Epoch 2/7\n",
      "\u001b[1m3281/3281\u001b[0m \u001b[32m━━━━━━━━━━━━━━━━━━━━\u001b[0m\u001b[37m\u001b[0m \u001b[1m212s\u001b[0m 64ms/step - accuracy: 0.7875 - loss: 0.4528 - val_accuracy: 0.7918 - val_loss: 0.4474\n",
      "Epoch 3/7\n",
      "\u001b[1m3281/3281\u001b[0m \u001b[32m━━━━━━━━━━━━━━━━━━━━\u001b[0m\u001b[37m\u001b[0m \u001b[1m217s\u001b[0m 66ms/step - accuracy: 0.8040 - loss: 0.4260 - val_accuracy: 0.7962 - val_loss: 0.4404\n",
      "Epoch 4/7\n",
      "\u001b[1m3281/3281\u001b[0m \u001b[32m━━━━━━━━━━━━━━━━━━━━\u001b[0m\u001b[37m\u001b[0m \u001b[1m218s\u001b[0m 67ms/step - accuracy: 0.8159 - loss: 0.4081 - val_accuracy: 0.7975 - val_loss: 0.4384\n",
      "Epoch 5/7\n",
      "\u001b[1m3281/3281\u001b[0m \u001b[32m━━━━━━━━━━━━━━━━━━━━\u001b[0m\u001b[37m\u001b[0m \u001b[1m219s\u001b[0m 67ms/step - accuracy: 0.8264 - loss: 0.3929 - val_accuracy: 0.7966 - val_loss: 0.4401\n",
      "Epoch 6/7\n",
      "\u001b[1m3281/3281\u001b[0m \u001b[32m━━━━━━━━━━━━━━━━━━━━\u001b[0m\u001b[37m\u001b[0m \u001b[1m215s\u001b[0m 65ms/step - accuracy: 0.8354 - loss: 0.3794 - val_accuracy: 0.7941 - val_loss: 0.4486\n",
      "Training Complete! Restoring Best Validation Accuracy: 0.7975195646286011\n"
     ]
    }
   ],
   "source": [
    "third_config, history3 = alt_model(train_ds, val_ds, 10000, 50, 128)"
   ]
  },
  {
   "cell_type": "code",
   "execution_count": 19,
   "id": "301124ee-cdd3-4edd-8ab0-65a6a43534af",
   "metadata": {},
   "outputs": [
    {
     "name": "stdout",
     "output_type": "stream",
     "text": [
      "Epoch 1/7\n",
      "\u001b[1m3281/3281\u001b[0m \u001b[32m━━━━━━━━━━━━━━━━━━━━\u001b[0m\u001b[37m\u001b[0m \u001b[1m201s\u001b[0m 60ms/step - accuracy: 0.7121 - loss: 0.5591 - val_accuracy: 0.7817 - val_loss: 0.4649\n",
      "Epoch 2/7\n",
      "\u001b[1m3281/3281\u001b[0m \u001b[32m━━━━━━━━━━━━━━━━━━━━\u001b[0m\u001b[37m\u001b[0m \u001b[1m198s\u001b[0m 60ms/step - accuracy: 0.7916 - loss: 0.4489 - val_accuracy: 0.7943 - val_loss: 0.4442\n",
      "Epoch 3/7\n",
      "\u001b[1m3281/3281\u001b[0m \u001b[32m━━━━━━━━━━━━━━━━━━━━\u001b[0m\u001b[37m\u001b[0m \u001b[1m206s\u001b[0m 63ms/step - accuracy: 0.8076 - loss: 0.4224 - val_accuracy: 0.7965 - val_loss: 0.4419\n",
      "Epoch 4/7\n",
      "\u001b[1m3281/3281\u001b[0m \u001b[32m━━━━━━━━━━━━━━━━━━━━\u001b[0m\u001b[37m\u001b[0m \u001b[1m217s\u001b[0m 66ms/step - accuracy: 0.8209 - loss: 0.4020 - val_accuracy: 0.7956 - val_loss: 0.4446\n",
      "Epoch 5/7\n",
      "\u001b[1m3281/3281\u001b[0m \u001b[32m━━━━━━━━━━━━━━━━━━━━\u001b[0m\u001b[37m\u001b[0m \u001b[1m208s\u001b[0m 63ms/step - accuracy: 0.8348 - loss: 0.3839 - val_accuracy: 0.7936 - val_loss: 0.4505\n",
      "Training Complete! Restoring Best Validation Accuracy: 0.7964527010917664\n"
     ]
    }
   ],
   "source": [
    "fourth_config, history4 = alt_model(train_ds, val_ds, 10000, 35, 64)"
   ]
  },
  {
   "cell_type": "code",
   "execution_count": 20,
   "id": "ba0c06ba-cda7-4899-bcb4-8eaeb4d19b3b",
   "metadata": {},
   "outputs": [
    {
     "name": "stdout",
     "output_type": "stream",
     "text": [
      "Epoch 1/7\n",
      "\u001b[1m3281/3281\u001b[0m \u001b[32m━━━━━━━━━━━━━━━━━━━━\u001b[0m\u001b[37m\u001b[0m \u001b[1m240s\u001b[0m 72ms/step - accuracy: 0.7068 - loss: 0.5640 - val_accuracy: 0.7788 - val_loss: 0.4650\n",
      "Epoch 2/7\n",
      "\u001b[1m3281/3281\u001b[0m \u001b[32m━━━━━━━━━━━━━━━━━━━━\u001b[0m\u001b[37m\u001b[0m \u001b[1m237s\u001b[0m 72ms/step - accuracy: 0.7873 - loss: 0.4551 - val_accuracy: 0.7880 - val_loss: 0.4516\n",
      "Epoch 3/7\n",
      "\u001b[1m3281/3281\u001b[0m \u001b[32m━━━━━━━━━━━━━━━━━━━━\u001b[0m\u001b[37m\u001b[0m \u001b[1m246s\u001b[0m 75ms/step - accuracy: 0.8020 - loss: 0.4274 - val_accuracy: 0.7914 - val_loss: 0.4444\n",
      "Epoch 4/7\n",
      "\u001b[1m3281/3281\u001b[0m \u001b[32m━━━━━━━━━━━━━━━━━━━━\u001b[0m\u001b[37m\u001b[0m \u001b[1m238s\u001b[0m 73ms/step - accuracy: 0.8163 - loss: 0.4052 - val_accuracy: 0.7944 - val_loss: 0.4430\n",
      "Epoch 5/7\n",
      "\u001b[1m3281/3281\u001b[0m \u001b[32m━━━━━━━━━━━━━━━━━━━━\u001b[0m\u001b[37m\u001b[0m \u001b[1m234s\u001b[0m 71ms/step - accuracy: 0.8299 - loss: 0.3850 - val_accuracy: 0.7914 - val_loss: 0.4510\n",
      "Epoch 6/7\n",
      "\u001b[1m3281/3281\u001b[0m \u001b[32m━━━━━━━━━━━━━━━━━━━━\u001b[0m\u001b[37m\u001b[0m \u001b[1m240s\u001b[0m 73ms/step - accuracy: 0.8428 - loss: 0.3656 - val_accuracy: 0.7881 - val_loss: 0.4632\n",
      "Training Complete! Restoring Best Validation Accuracy: 0.7943634390830994\n"
     ]
    }
   ],
   "source": [
    "fifth_config, history5 = alt_model(train_ds, val_ds, 15000, 50, 64)"
   ]
  },
  {
   "cell_type": "markdown",
   "id": "fb7b54ce-9ea4-47f2-934f-8a9e344245bb",
   "metadata": {},
   "source": [
    "As it can be seen from the previous configurations, this model behaves better than the simpler one, with the validation accuracy being **80%**, which is generally a good result for a sentiment analysis task involving tweets, since only a small portion of slang words have been handled properly and there may be other factors that prevent it from being higher.\n",
    "Nonetheless, we stick with this model as it might suit better for more complex datasets and tasks, potentially leading to an enhanced generalization error. "
   ]
  },
  {
   "cell_type": "code",
   "execution_count": 22,
   "id": "bd361430-b02b-4404-89ff-b2cabfa64af7",
   "metadata": {},
   "outputs": [
    {
     "data": {
      "text/html": [
       "<pre style=\"white-space:pre;overflow-x:auto;line-height:normal;font-family:Menlo,'DejaVu Sans Mono',consolas,'Courier New',monospace\"><span style=\"font-weight: bold\">Model: \"sequential_5\"</span>\n",
       "</pre>\n"
      ],
      "text/plain": [
       "\u001b[1mModel: \"sequential_5\"\u001b[0m\n"
      ]
     },
     "metadata": {},
     "output_type": "display_data"
    },
    {
     "data": {
      "text/html": [
       "<pre style=\"white-space:pre;overflow-x:auto;line-height:normal;font-family:Menlo,'DejaVu Sans Mono',consolas,'Courier New',monospace\">┏━━━━━━━━━━━━━━━━━━━━━━━━━━━━━━━━━┳━━━━━━━━━━━━━━━━━━━━━━━━┳━━━━━━━━━━━━━━━┓\n",
       "┃<span style=\"font-weight: bold\"> Layer (type)                    </span>┃<span style=\"font-weight: bold\"> Output Shape           </span>┃<span style=\"font-weight: bold\">       Param # </span>┃\n",
       "┡━━━━━━━━━━━━━━━━━━━━━━━━━━━━━━━━━╇━━━━━━━━━━━━━━━━━━━━━━━━╇━━━━━━━━━━━━━━━┩\n",
       "│ text_vectorization_5            │ (<span style=\"color: #00d7ff; text-decoration-color: #00d7ff\">None</span>, <span style=\"color: #00af00; text-decoration-color: #00af00\">50</span>)             │             <span style=\"color: #00af00; text-decoration-color: #00af00\">0</span> │\n",
       "│ (<span style=\"color: #0087ff; text-decoration-color: #0087ff\">TextVectorization</span>)             │                        │               │\n",
       "├─────────────────────────────────┼────────────────────────┼───────────────┤\n",
       "│ embedding_5 (<span style=\"color: #0087ff; text-decoration-color: #0087ff\">Embedding</span>)         │ (<span style=\"color: #00d7ff; text-decoration-color: #00d7ff\">None</span>, <span style=\"color: #00af00; text-decoration-color: #00af00\">50</span>, <span style=\"color: #00af00; text-decoration-color: #00af00\">128</span>)        │     <span style=\"color: #00af00; text-decoration-color: #00af00\">1,280,000</span> │\n",
       "├─────────────────────────────────┼────────────────────────┼───────────────┤\n",
       "│ bidirectional_1 (<span style=\"color: #0087ff; text-decoration-color: #0087ff\">Bidirectional</span>) │ (<span style=\"color: #00d7ff; text-decoration-color: #00d7ff\">None</span>, <span style=\"color: #00af00; text-decoration-color: #00af00\">128</span>)            │        <span style=\"color: #00af00; text-decoration-color: #00af00\">98,816</span> │\n",
       "├─────────────────────────────────┼────────────────────────┼───────────────┤\n",
       "│ layer_normalization_2           │ (<span style=\"color: #00d7ff; text-decoration-color: #00d7ff\">None</span>, <span style=\"color: #00af00; text-decoration-color: #00af00\">128</span>)            │           <span style=\"color: #00af00; text-decoration-color: #00af00\">256</span> │\n",
       "│ (<span style=\"color: #0087ff; text-decoration-color: #0087ff\">LayerNormalization</span>)            │                        │               │\n",
       "├─────────────────────────────────┼────────────────────────┼───────────────┤\n",
       "│ dense_6 (<span style=\"color: #0087ff; text-decoration-color: #0087ff\">Dense</span>)                 │ (<span style=\"color: #00d7ff; text-decoration-color: #00d7ff\">None</span>, <span style=\"color: #00af00; text-decoration-color: #00af00\">128</span>)            │        <span style=\"color: #00af00; text-decoration-color: #00af00\">16,512</span> │\n",
       "├─────────────────────────────────┼────────────────────────┼───────────────┤\n",
       "│ layer_normalization_3           │ (<span style=\"color: #00d7ff; text-decoration-color: #00d7ff\">None</span>, <span style=\"color: #00af00; text-decoration-color: #00af00\">128</span>)            │           <span style=\"color: #00af00; text-decoration-color: #00af00\">256</span> │\n",
       "│ (<span style=\"color: #0087ff; text-decoration-color: #0087ff\">LayerNormalization</span>)            │                        │               │\n",
       "├─────────────────────────────────┼────────────────────────┼───────────────┤\n",
       "│ dense_7 (<span style=\"color: #0087ff; text-decoration-color: #0087ff\">Dense</span>)                 │ (<span style=\"color: #00d7ff; text-decoration-color: #00d7ff\">None</span>, <span style=\"color: #00af00; text-decoration-color: #00af00\">1</span>)              │           <span style=\"color: #00af00; text-decoration-color: #00af00\">129</span> │\n",
       "└─────────────────────────────────┴────────────────────────┴───────────────┘\n",
       "</pre>\n"
      ],
      "text/plain": [
       "┏━━━━━━━━━━━━━━━━━━━━━━━━━━━━━━━━━┳━━━━━━━━━━━━━━━━━━━━━━━━┳━━━━━━━━━━━━━━━┓\n",
       "┃\u001b[1m \u001b[0m\u001b[1mLayer (type)                   \u001b[0m\u001b[1m \u001b[0m┃\u001b[1m \u001b[0m\u001b[1mOutput Shape          \u001b[0m\u001b[1m \u001b[0m┃\u001b[1m \u001b[0m\u001b[1m      Param #\u001b[0m\u001b[1m \u001b[0m┃\n",
       "┡━━━━━━━━━━━━━━━━━━━━━━━━━━━━━━━━━╇━━━━━━━━━━━━━━━━━━━━━━━━╇━━━━━━━━━━━━━━━┩\n",
       "│ text_vectorization_5            │ (\u001b[38;5;45mNone\u001b[0m, \u001b[38;5;34m50\u001b[0m)             │             \u001b[38;5;34m0\u001b[0m │\n",
       "│ (\u001b[38;5;33mTextVectorization\u001b[0m)             │                        │               │\n",
       "├─────────────────────────────────┼────────────────────────┼───────────────┤\n",
       "│ embedding_5 (\u001b[38;5;33mEmbedding\u001b[0m)         │ (\u001b[38;5;45mNone\u001b[0m, \u001b[38;5;34m50\u001b[0m, \u001b[38;5;34m128\u001b[0m)        │     \u001b[38;5;34m1,280,000\u001b[0m │\n",
       "├─────────────────────────────────┼────────────────────────┼───────────────┤\n",
       "│ bidirectional_1 (\u001b[38;5;33mBidirectional\u001b[0m) │ (\u001b[38;5;45mNone\u001b[0m, \u001b[38;5;34m128\u001b[0m)            │        \u001b[38;5;34m98,816\u001b[0m │\n",
       "├─────────────────────────────────┼────────────────────────┼───────────────┤\n",
       "│ layer_normalization_2           │ (\u001b[38;5;45mNone\u001b[0m, \u001b[38;5;34m128\u001b[0m)            │           \u001b[38;5;34m256\u001b[0m │\n",
       "│ (\u001b[38;5;33mLayerNormalization\u001b[0m)            │                        │               │\n",
       "├─────────────────────────────────┼────────────────────────┼───────────────┤\n",
       "│ dense_6 (\u001b[38;5;33mDense\u001b[0m)                 │ (\u001b[38;5;45mNone\u001b[0m, \u001b[38;5;34m128\u001b[0m)            │        \u001b[38;5;34m16,512\u001b[0m │\n",
       "├─────────────────────────────────┼────────────────────────┼───────────────┤\n",
       "│ layer_normalization_3           │ (\u001b[38;5;45mNone\u001b[0m, \u001b[38;5;34m128\u001b[0m)            │           \u001b[38;5;34m256\u001b[0m │\n",
       "│ (\u001b[38;5;33mLayerNormalization\u001b[0m)            │                        │               │\n",
       "├─────────────────────────────────┼────────────────────────┼───────────────┤\n",
       "│ dense_7 (\u001b[38;5;33mDense\u001b[0m)                 │ (\u001b[38;5;45mNone\u001b[0m, \u001b[38;5;34m1\u001b[0m)              │           \u001b[38;5;34m129\u001b[0m │\n",
       "└─────────────────────────────────┴────────────────────────┴───────────────┘\n"
      ]
     },
     "metadata": {},
     "output_type": "display_data"
    },
    {
     "data": {
      "text/html": [
       "<pre style=\"white-space:pre;overflow-x:auto;line-height:normal;font-family:Menlo,'DejaVu Sans Mono',consolas,'Courier New',monospace\"><span style=\"font-weight: bold\"> Total params: </span><span style=\"color: #00af00; text-decoration-color: #00af00\">2,791,940</span> (10.65 MB)\n",
       "</pre>\n"
      ],
      "text/plain": [
       "\u001b[1m Total params: \u001b[0m\u001b[38;5;34m2,791,940\u001b[0m (10.65 MB)\n"
      ]
     },
     "metadata": {},
     "output_type": "display_data"
    },
    {
     "data": {
      "text/html": [
       "<pre style=\"white-space:pre;overflow-x:auto;line-height:normal;font-family:Menlo,'DejaVu Sans Mono',consolas,'Courier New',monospace\"><span style=\"font-weight: bold\"> Trainable params: </span><span style=\"color: #00af00; text-decoration-color: #00af00\">1,395,969</span> (5.33 MB)\n",
       "</pre>\n"
      ],
      "text/plain": [
       "\u001b[1m Trainable params: \u001b[0m\u001b[38;5;34m1,395,969\u001b[0m (5.33 MB)\n"
      ]
     },
     "metadata": {},
     "output_type": "display_data"
    },
    {
     "data": {
      "text/html": [
       "<pre style=\"white-space:pre;overflow-x:auto;line-height:normal;font-family:Menlo,'DejaVu Sans Mono',consolas,'Courier New',monospace\"><span style=\"font-weight: bold\"> Non-trainable params: </span><span style=\"color: #00af00; text-decoration-color: #00af00\">0</span> (0.00 B)\n",
       "</pre>\n"
      ],
      "text/plain": [
       "\u001b[1m Non-trainable params: \u001b[0m\u001b[38;5;34m0\u001b[0m (0.00 B)\n"
      ]
     },
     "metadata": {},
     "output_type": "display_data"
    },
    {
     "data": {
      "text/html": [
       "<pre style=\"white-space:pre;overflow-x:auto;line-height:normal;font-family:Menlo,'DejaVu Sans Mono',consolas,'Courier New',monospace\"><span style=\"font-weight: bold\"> Optimizer params: </span><span style=\"color: #00af00; text-decoration-color: #00af00\">1,395,971</span> (5.33 MB)\n",
       "</pre>\n"
      ],
      "text/plain": [
       "\u001b[1m Optimizer params: \u001b[0m\u001b[38;5;34m1,395,971\u001b[0m (5.33 MB)\n"
      ]
     },
     "metadata": {},
     "output_type": "display_data"
    }
   ],
   "source": [
    "first_config.summary()"
   ]
  },
  {
   "cell_type": "markdown",
   "id": "ea2e700d-b43e-4d9e-aa47-2abfdf53773b",
   "metadata": {},
   "source": [
    "## Visualization and Evaluation\n",
    "\n",
    "In this section, we first visualize the final model's training and validation accuracy/loss, and assess its performance on unseen data (the test set), which was not involved in the training process. This evaluation helps estimate the model's generalization ability to classify sentiment on new, previously unencountered tweets.\n",
    "We also visualize a table depicting the **accuracy**, **precision**, **recall** and **f1 score** metrics imported from `sklearn.metrics`."
   ]
  },
  {
   "cell_type": "code",
   "execution_count": 24,
   "id": "38dac28c-a72d-46e4-ac98-417b86660d6d",
   "metadata": {},
   "outputs": [
    {
     "data": {
      "image/png": "[encoded data removed]",
      "text/plain": [
       "<Figure size 1200x400 with 2 Axes>"
      ]
     },
     "metadata": {},
     "output_type": "display_data"
    }
   ],
   "source": [
    "def visualize_train_history(history):\n",
    "    \n",
    "    plt.figure(figsize=(12, 4))\n",
    "\n",
    "    # Plot training & validation accuracy values\n",
    "    plt.subplot(1, 2, 1)\n",
    "    plt.plot(history.history['accuracy'])\n",
    "    plt.plot(history.history['val_accuracy'])\n",
    "    plt.title('Model accuracy')\n",
    "    plt.xlabel('Epoch')\n",
    "    plt.ylabel('Accuracy')\n",
    "    plt.legend(['Train', 'Validation'], loc='upper left')\n",
    "\n",
    "    # Plot training & validation loss values\n",
    "    plt.subplot(1, 2, 2)\n",
    "    plt.plot(history.history['loss'])\n",
    "    plt.plot(history.history['val_loss'])\n",
    "    plt.title('Model loss')\n",
    "    plt.xlabel('Epoch')\n",
    "    plt.ylabel('Loss')\n",
    "    plt.legend(['Train', 'Validation'], loc='upper left')\n",
    "\n",
    "    plt.tight_layout()\n",
    "    plt.show()\n",
    "\n",
    "visualize_train_history(history1)"
   ]
  },
  {
   "cell_type": "code",
   "execution_count": 25,
   "id": "e586f313-b637-4fce-92a1-73e3760c6dd6",
   "metadata": {},
   "outputs": [
    {
     "name": "stdout",
     "output_type": "stream",
     "text": [
      "\u001b[1m704/704\u001b[0m \u001b[32m━━━━━━━━━━━━━━━━━━━━\u001b[0m\u001b[37m\u001b[0m \u001b[1m24s\u001b[0m 30ms/step - accuracy: 0.7960 - loss: 0.4374\n"
     ]
    },
    {
     "data": {
      "text/plain": [
       "[0.4361239969730377, 0.7970132231712341]"
      ]
     },
     "execution_count": 25,
     "metadata": {},
     "output_type": "execute_result"
    }
   ],
   "source": [
    "first_config.evaluate(test_ds, verbose=1)"
   ]
  },
  {
   "cell_type": "code",
   "execution_count": 26,
   "id": "f04ffcec-309b-474a-b5c0-37000d12d7ff",
   "metadata": {},
   "outputs": [
    {
     "name": "stdout",
     "output_type": "stream",
     "text": [
      "\u001b[1m704/704\u001b[0m \u001b[32m━━━━━━━━━━━━━━━━━━━━\u001b[0m\u001b[37m\u001b[0m \u001b[1m18s\u001b[0m 24ms/step\n"
     ]
    },
    {
     "data": {
      "text/html": [
       "<pre style=\"white-space:pre;overflow-x:auto;line-height:normal;font-family:Menlo,'DejaVu Sans Mono',consolas,'Courier New',monospace\"><span style=\"font-style: italic\">  BiLSTM Evaluation   </span>\n",
       "<span style=\"font-style: italic\">       Analysis       </span>\n",
       "┏━━━━━━━━━━━┳━━━━━━━━┓\n",
       "┃<span style=\"font-weight: bold\">  Metric   </span>┃<span style=\"font-weight: bold\"> Result </span>┃\n",
       "┡━━━━━━━━━━━╇━━━━━━━━┩\n",
       "│ Accuracy  │ 0.7972 │\n",
       "├───────────┼────────┤\n",
       "│ Precision │ 0.7870 │\n",
       "├───────────┼────────┤\n",
       "│  Recall   │ 0.8170 │\n",
       "├───────────┼────────┤\n",
       "│ F1-Score  │ 0.8017 │\n",
       "└───────────┴────────┘\n",
       "</pre>\n"
      ],
      "text/plain": [
       "\u001b[3m  BiLSTM Evaluation   \u001b[0m\n",
       "\u001b[3m       Analysis       \u001b[0m\n",
       "┏━━━━━━━━━━━┳━━━━━━━━┓\n",
       "┃\u001b[1m \u001b[0m\u001b[1m Metric  \u001b[0m\u001b[1m \u001b[0m┃\u001b[1m \u001b[0m\u001b[1mResult\u001b[0m\u001b[1m \u001b[0m┃\n",
       "┡━━━━━━━━━━━╇━━━━━━━━┩\n",
       "│ Accuracy  │ 0.7972 │\n",
       "├───────────┼────────┤\n",
       "│ Precision │ 0.7870 │\n",
       "├───────────┼────────┤\n",
       "│  Recall   │ 0.8170 │\n",
       "├───────────┼────────┤\n",
       "│ F1-Score  │ 0.8017 │\n",
       "└───────────┴────────┘\n"
      ]
     },
     "metadata": {},
     "output_type": "display_data"
    }
   ],
   "source": [
    "MODEL_NAME = \"BiLSTM\"\n",
    "console = Console()\n",
    "    \n",
    "\n",
    "def unbatch_ds(batched_ds, decode=False, np_array=False):\n",
    "    X_data = []\n",
    "    y_data = []\n",
    "    for x, y in batched_ds.unbatch():\n",
    "        if decode:\n",
    "            X_data.append(x.numpy().decode())\n",
    "        else:\n",
    "            X_data.append(x.numpy())\n",
    "        y_data.append(y.numpy())\n",
    "\n",
    "    if np_array:\n",
    "        X_data = np.array(X_data)\n",
    "    else:\n",
    "        X_data = tf.convert_to_tensor(X_data)\n",
    "\n",
    "    y_data = np.array(y_data)\n",
    "\n",
    "    return X_data, y_data\n",
    "    \n",
    "def create_rich_table(data, headers, title=\"Table\"):\n",
    "    table = Table(title=title, show_lines=True)\n",
    "\n",
    "    for header in headers:\n",
    "        table.add_column(header, justify=\"center\")\n",
    "\n",
    "    for row in data:\n",
    "        table.add_row(*map(str, row))\n",
    "\n",
    "    return table\n",
    "\n",
    "\n",
    "def model_evaluation_table(model_name, y_pred, y_test, average=\"binary\"):\n",
    "\n",
    "    accuracy = accuracy_score(y_test, y_pred)\n",
    "    precision = precision_score(y_test, y_pred, average=average)\n",
    "    recall = recall_score(y_test, y_pred, average=average)\n",
    "    f1 = f1_score(y_test, y_pred, average=average)\n",
    "\n",
    "    table_data = [\n",
    "        (\"Accuracy\", f\"{accuracy:.4f}\"),\n",
    "        (\"Precision\", f\"{precision:.4f}\"),\n",
    "        (\"Recall\", f\"{recall:.4f}\"),\n",
    "        (\"F1-Score\", f\"{f1:.4f}\"),\n",
    "    ]\n",
    "\n",
    "    table = create_rich_table(\n",
    "        table_data,\n",
    "        headers=[\"Metric\", \"Result\"],\n",
    "        title=MODEL_NAME + \" Evaluation Analysis\"\n",
    "    )\n",
    "\n",
    "    return table\n",
    "\n",
    "\n",
    "X_test, y_test = unbatch_ds(test_ds)\n",
    "y_pred = first_config.predict(X_test) \n",
    "y_pred = (y_pred > 0.5).astype(int)\n",
    "eval_table = model_evaluation_table(MODEL_NAME, y_pred, y_test)\n",
    "console.print(eval_table)"
   ]
  },
  {
   "cell_type": "markdown",
   "id": "d0c69125-e03a-474b-a46d-3f3b328d4909",
   "metadata": {},
   "source": [
    "## Further testing\n",
    "\n",
    "We write our own tweets, create a tf Dataset from them, batch them and check how the model predicts the sentiment.  "
   ]
  },
  {
   "cell_type": "code",
   "execution_count": 27,
   "id": "550e027d-034f-4a63-8693-8689d0cf3e1e",
   "metadata": {},
   "outputs": [
    {
     "name": "stdout",
     "output_type": "stream",
     "text": [
      "\u001b[1m1/1\u001b[0m \u001b[32m━━━━━━━━━━━━━━━━━━━━\u001b[0m\u001b[37m\u001b[0m \u001b[1m1s\u001b[0m 630ms/step\n",
      "[[1]\n",
      " [1]\n",
      " [1]\n",
      " [1]\n",
      " [1]\n",
      " [0]\n",
      " [0]\n",
      " [0]\n",
      " [0]\n",
      " [0]]\n"
     ]
    }
   ],
   "source": [
    "own_tweets = [\n",
    "    \"I love this product! It's amazing and works perfectly. #happy\",\n",
    "    \"This song is gorgeous!! Can't stop listening lol\",\n",
    "    \"it worked out AMAZINGLY!!\",\n",
    "    \"Ohhh i'm so happy for you nina #congrats\",\n",
    "    \"Made a cake and it tastes delicious!!\",\n",
    "    \"This is the worst experience I’ve ever had. Totally disappointed!\",\n",
    "    \"The service was very bad, especially the waitress Virginia.\",\n",
    "    \"This album tho... not I was expecting at all.\",\n",
    "    \"Terrible! Never tasted something so disgusting!\",\n",
    "    \"Maybe it's time for me to go to bed.. sad it's over :(\"\n",
    "]\n",
    "\n",
    "X_test = tf.data.Dataset.from_tensor_slices(own_tweets)\n",
    "\n",
    "X_test = X_test.batch(10) \n",
    "predictions = first_config.predict(X_test)\n",
    "\n",
    "predicted_labels = (predictions > 0.5).astype(int)\n",
    "print(predicted_labels)"
   ]
  },
  {
   "cell_type": "markdown",
   "id": "4d0ac46f-972b-486f-9794-a6b98992682d",
   "metadata": {},
   "source": [
    "## Conclusions\n",
    "\n",
    "Throughout the course of the analysis, it can be observed that the simple model we first built is surely accountable for small-scale datasets; however, keeping our eyes on the more complex BiLSTM-based model is beneficial for more challenging tasks with large-scale datasets."
   ]
  }
 ],
 "metadata": {
  "kernelspec": {
   "display_name": "Python 3 (ipykernel)",
   "language": "python",
   "name": "python3"
  },
  "language_info": {
   "codemirror_mode": {
    "name": "ipython",
    "version": 3
   },
   "file_extension": ".py",
   "mimetype": "text/x-python",
   "name": "python",
   "nbconvert_exporter": "python",
   "pygments_lexer": "ipython3",
   "version": "3.10.14"
  }
 },
 "nbformat": 4,
 "nbformat_minor": 5
}
